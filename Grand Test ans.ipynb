{
 "cells": [
  {
   "cell_type": "raw",
   "id": "73d2d1e1-38aa-417c-823b-0c9dbcbe45b8",
   "metadata": {},
   "source": [
    "1. Write a Python program to check whether a given number is an Armstrong number.\n",
    "An Armstrong number is a number that is equal to the sum of its own digits each raised to the power of the number of digits.\n",
    "Test Case 1\n",
    "Input: 153\n",
    "Output: Yes, 153 is an Armstrong number\n",
    "Explanation: 1^3 + 5^3 + 3^3 = 153  \n",
    "Test Case 2\n",
    "Input: 123\n",
    "Output: No, 123 is not an Armstrong number\n",
    "Explanation: 1^3 + 2^3 + 3^3 = 36 !=123, 153, 370, 371, 407, 1634, 8208\n",
    "some Armstrong examples : 0, 1, 2, 3, 4, 5, 6, 7, 8, 9, 153, 370, 371, 407, 1634, 8208, 9474, etc"
   ]
  },
  {
   "cell_type": "code",
   "execution_count": 7,
   "id": "949be64a-371b-4cc4-9292-92a27abd3035",
   "metadata": {},
   "outputs": [
    {
     "name": "stdin",
     "output_type": "stream",
     "text": [
      " 9474\n"
     ]
    },
    {
     "name": "stdout",
     "output_type": "stream",
     "text": [
      "Yes, 9474 is a an Armstrong number\n"
     ]
    }
   ],
   "source": [
    "def armstrong(num):\n",
    "    len_num = len(str(num))\n",
    "    original_num = num\n",
    "    temp = 0\n",
    "    while num > 0:\n",
    "        rem = num % 10\n",
    "        num = num // 10\n",
    "        temp += rem ** len_num\n",
    "    return True if temp == original_num else False\n",
    "num = int(input())\n",
    "if armstrong(num):\n",
    "    print(f\"Yes, {num} is a an Armstrong number\")\n",
    "else:\n",
    "    print(f\"No, {num} is not an Armstrong number\")\n",
    "        "
   ]
  },
  {
   "cell_type": "raw",
   "id": "88869cf3-cc4c-47ef-ae41-6fa7eced12d5",
   "metadata": {},
   "source": [
    "2. Write a Python function to find the N largest elements from a list without using any bulit in functions and methods.\n",
    "Test Case 1\n",
    "Input: ([1, 23, 12, 9, 30, 2, 50], N=3)\n",
    "Output: [50, 30, 23]\n",
    "Explanation: The top 3 largest numbers are 50, 30, and 23.\n",
    "Test Case 2\n",
    "Input: ([10, 5, 20, 8, 15], N=2)\n",
    "Output: [20, 15]\n",
    "Explanation: The two largest numbers are 20 and 15.\n"
   ]
  },
  {
   "cell_type": "code",
   "execution_count": 13,
   "id": "f9065e5d-570a-462d-967e-14e92b8bb913",
   "metadata": {},
   "outputs": [
    {
     "name": "stdin",
     "output_type": "stream",
     "text": [
      " 1 23 12 9 30 2 50\n",
      " 3\n"
     ]
    },
    {
     "name": "stdout",
     "output_type": "stream",
     "text": [
      "[50, 30, 23]\n"
     ]
    }
   ],
   "source": [
    "def largest_eles(arr, N):\n",
    "    res = []\n",
    "    while N > 0:\n",
    "        max_ele = arr[0]\n",
    "        for num in arr:\n",
    "            if num > max_ele:\n",
    "                max_ele = num\n",
    "        res.append(max_ele)\n",
    "        arr.remove(max_ele)\n",
    "        N -= 1\n",
    "    return res\n",
    "\n",
    "arr = list(map(int, input().split()))\n",
    "N = int(input())\n",
    "print(largest_eles(arr, N))\n",
    "    \n",
    "            "
   ]
  },
  {
   "cell_type": "markdown",
   "id": "3a5665db-e81a-4c2a-94e9-32032f080f12",
   "metadata": {},
   "source": [
    "3. Palindrome Checker with Special Character Handling\n",
    "Write a Python function that checks if a string is a palindrome, considering only alphanumeric characters and ignoring cases.\n",
    "Test Case 1:\n",
    "Input: \"A man, a plan, a canal: Panama\"\n",
    "Output: True\n",
    "Explanation: After removing non-alphanumeric characters and converting to lowercase: \"amanaplanacanalpanama\" which is a palindrome.\n",
    "Test Case 2:\n",
    "Input: \"race a car\"\n",
    "Output: False\n",
    "Explanation: After processing: \"raceacar\" which is not a palindrome (raceacar ≠ racaecar).\n"
   ]
  },
  {
   "cell_type": "code",
   "execution_count": 16,
   "id": "362c5ad7-5d7d-462c-b3e9-001f5c883ab9",
   "metadata": {},
   "outputs": [
    {
     "name": "stdin",
     "output_type": "stream",
     "text": [
      " ma da m\n"
     ]
    },
    {
     "name": "stdout",
     "output_type": "stream",
     "text": [
      "True\n"
     ]
    }
   ],
   "source": [
    "def palindrome_checker(string):\n",
    "    s = \"\"\n",
    "    # removing the non alpha character\n",
    "    string = string.lower() # ignoring cases\n",
    "    for char in string:\n",
    "        if char.isalpha():\n",
    "            s += char\n",
    "    return True if s == s[::-1] else False \n",
    "string = input()\n",
    "print(palindrome_checker(string))\n",
    "    "
   ]
  },
  {
   "cell_type": "raw",
   "id": "decbfcde-373a-4c83-b39e-a8e85fd261c0",
   "metadata": {},
   "source": [
    "4. Write a Python program to count the frequency of each word in a given text file.\n",
    "Test Case 1\n",
    "File Content: \"hello world hello\"\n",
    "Output: {'hello': 2, 'world': 1}\n",
    "Explanation: \"hello\" appears twice, \"world\" once.\n",
    "Test Case 2\n",
    "File Content: \"Python is fun and Python is powerful\"\n",
    "Output: {'Python': 2, 'is': 2, 'fun': 1, 'and': 1, 'powerful': 1}\n",
    "Explanation: Each word count is calculated correctly.\n"
   ]
  },
  {
   "cell_type": "code",
   "execution_count": 27,
   "id": "01b00b8e-092c-4139-a0d4-32df245a4bc4",
   "metadata": {},
   "outputs": [
    {
     "name": "stdin",
     "output_type": "stream",
     "text": [
      " hello hi world hello \n"
     ]
    },
    {
     "name": "stdout",
     "output_type": "stream",
     "text": [
      "{'hello': 2, 'world': 1, 'hi': 1}\n"
     ]
    }
   ],
   "source": [
    "def word_frequency(string):\n",
    "    list_of_words = string.split() # spliting the string at space\n",
    "    counts = {}\n",
    "    for word in list_of_words:\n",
    "        counts[word] = counts.get(word, 0) + 1 # adding the word to dictionary or updating the word count\n",
    "    # sorting the dictionary based word frequency and word\n",
    "    items = sorted(counts.items(), key = lambda x: (x[1], x[0]), reverse = True)\n",
    "    return dict(items)\n",
    "string = input()\n",
    "print(word_frequency(string))\n",
    "        "
   ]
  },
  {
   "cell_type": "raw",
   "id": "dec2bef6-b036-4838-afdf-dcc094457b22",
   "metadata": {},
   "source": [
    "5. Write a Python function that rotates an array to the right by k steps (in-place).\n",
    "Test Case 1:\n",
    "Input: nums = [1, 2, 3, 4, 5, 6, 7], k = 3\n",
    "Output: [5, 6, 7, 1, 2, 3, 4]\n",
    "Explanation: Rotate 1 step: [7,1,2,3,4,5,6], rotate 2 steps: [6,7,1,2,3,4,5], rotate 3 steps: [5,6,7,1,2,3,4]\n",
    "Test Case 2:\n",
    "Input: nums = [-1, -100, 3, 99], k = 2\n",
    "Output: [3, 99, -1, -100]\n",
    "Explanation: Rotate 1 step: [99,-1,-100,3], rotate 2 steps: [3,99,-1,-100]\n"
   ]
  },
  {
   "cell_type": "code",
   "execution_count": 28,
   "id": "56909cba-ff0b-4f4d-9725-41bed9f99435",
   "metadata": {},
   "outputs": [
    {
     "name": "stdin",
     "output_type": "stream",
     "text": [
      " 1 2 3 4 5 6 7\n",
      " 3\n"
     ]
    },
    {
     "name": "stdout",
     "output_type": "stream",
     "text": [
      "[5, 6, 7, 1, 2, 3, 4]\n"
     ]
    }
   ],
   "source": [
    "def rotate_array(arr, k):\n",
    "    k = k % len(arr) # if k value is more than length of array\n",
    "    return  arr[-k:] + arr[:-k]\n",
    "arr = list(map(int, input().split()))\n",
    "k = int(input())\n",
    "print(rotate_array(arr, k))"
   ]
  },
  {
   "cell_type": "raw",
   "id": "094e6f94-67b7-44b6-83b0-e9711f1629e1",
   "metadata": {},
   "source": [
    "6. Two Sum with Sorted Input\n",
    "Write a Python function that finds two numbers in a sorted list that add up to a specific target. Return the indices of the two numbers (1-indexed).\n",
    "Test Case 1:\n",
    "Input: numbers = [2, 7, 11, 15], target = 9\n",
    "Output: [1, 2]\n",
    "Explanation: numbers[0] + numbers[1] = 2 + 7 = 9, so return [1, 2] (1-indexed).\n",
    "Test Case 2:\n",
    "Input: numbers = [3, 4, 5, 6, 9], target = 11\n",
    "Output: [3, 4]\n",
    "Explanation: numbers[2] + numbers[3] = 5 + 6 = 11, so return [3, 4].\n"
   ]
  },
  {
   "cell_type": "code",
   "execution_count": 33,
   "id": "d1050236-4043-4685-9fc0-40876e55b012",
   "metadata": {},
   "outputs": [
    {
     "name": "stdin",
     "output_type": "stream",
     "text": [
      " 2 7 11 15\n",
      " 9\n"
     ]
    },
    {
     "name": "stdout",
     "output_type": "stream",
     "text": [
      "[1, 2]\n"
     ]
    }
   ],
   "source": [
    "# two pointers approach\n",
    "def TwoSum(arr, target):\n",
    "    left, right = 0, len(arr) - 1\n",
    "    while left < right:\n",
    "        s = arr[left] + arr[right]\n",
    "        if s == target:\n",
    "            return [left+1, right+1] # 1- based index\n",
    "        elif s < target:\n",
    "            left += 1\n",
    "        else:\n",
    "            right -=1\n",
    "    return [-1,-1] # if there is no matching return [-1,-1]\n",
    "arr = list(map(int,input().split()))\n",
    "target = int(input())\n",
    "res = TwoSum(arr, target)\n",
    "print(res)"
   ]
  },
  {
   "cell_type": "raw",
   "id": "47c8c10c-d151-4e81-a5c2-978398dd453a",
   "metadata": {},
   "source": [
    "7. Find All Duplicates in Array\n",
    "Write a Python function that returns all elements that appear exactly twice in an array of integers (1 ≤ nums[i] ≤ n).\n",
    "Test Case 1:\n",
    "Input: [4, 3, 2, 7, 8, 2, 3, 1]\n",
    "Output: [2, 3]\n",
    "Explanation: Numbers 2 and 3 appear exactly twice in the array.\n",
    "Test Case 2:\n",
    "Input: [1, 2, 3, 4, 5, 1, 2]\n",
    "Output: [1, 2]\n",
    "Explanation: Numbers 1 and 2 appear exactly twice, others appear once.\n"
   ]
  },
  {
   "cell_type": "code",
   "execution_count": 35,
   "id": "4ff710f2-f645-446f-9c02-eb1c23107162",
   "metadata": {},
   "outputs": [
    {
     "name": "stdin",
     "output_type": "stream",
     "text": [
      " 1 2 3 4 5 1 2\n"
     ]
    },
    {
     "name": "stdout",
     "output_type": "stream",
     "text": [
      "[1, 2]\n"
     ]
    }
   ],
   "source": [
    "# hashmap approach\n",
    "def findDuplicates(nums:list[int]):\n",
    "    counts = {}\n",
    "    # count the each element \n",
    "    for num in nums:\n",
    "        counts[num] = counts.get(num, 0) + 1\n",
    "    res= []\n",
    "    # filtering the items, whose item count morethan 1\n",
    "    for key, value in counts.items():\n",
    "        if value > 1:\n",
    "            res.append(key)\n",
    "    # sort the result\n",
    "    res.sort()\n",
    "    return res\n",
    "arr = list(map(int, input().split()))\n",
    "print(findDuplicates(arr))"
   ]
  },
  {
   "cell_type": "raw",
   "id": "9e9bd19d-2d2c-4a80-9589-45672633deec",
   "metadata": {},
   "source": [
    "8. Maximum Subarray Sum \n",
    "Write a Python function  that finds the contiguous subarray with the largest sum.\n",
    "Test Case 1:\n",
    "python\n",
    "Input: [-2, 1, -3, 4, -1, 2, 1, -5, 4]\n",
    "Output: 6\n",
    "Explanation: The subarray [4, -1, 2, 1] has the largest sum = 6.\n",
    "Test Case 2:\n",
    "python\n",
    "Input: [5, 4, -1, 7, 8]\n",
    "Output: 23\n",
    "Explanation: The entire array [5,4,-1,7,8] has the largest sum = 23.\n"
   ]
  },
  {
   "cell_type": "code",
   "execution_count": 38,
   "id": "c98f9316-2190-4cd7-b1c3-3c065b75943e",
   "metadata": {},
   "outputs": [
    {
     "name": "stdin",
     "output_type": "stream",
     "text": [
      " -2 1 -3 4 -1 2 1 -5 4\n"
     ]
    },
    {
     "name": "stdout",
     "output_type": "stream",
     "text": [
      "6\n"
     ]
    }
   ],
   "source": [
    "# Leetcode - 53\n",
    "#Brute force apparoach - It raises TimeLimit exceeded error\n",
    "def maxSubArray(nums):\n",
    "    max_sum = nums[0]\n",
    "    n = len(nums)\n",
    "    for i in range(n):\n",
    "        for j in range(i+1, n+1):\n",
    "            max_sum = max(sum(nums[i:j]), max_sum) # sub array sum\n",
    "\n",
    "    return max_sum\n",
    "arr = list(map(int,input().split()))\n",
    "print(maxSubArray(arr))\n"
   ]
  },
  {
   "cell_type": "code",
   "execution_count": 43,
   "id": "21b256e4-69cc-400c-a2a5-be5d49883a4d",
   "metadata": {},
   "outputs": [
    {
     "name": "stdin",
     "output_type": "stream",
     "text": [
      " -3 -2 -5 -1\n"
     ]
    },
    {
     "name": "stdout",
     "output_type": "stream",
     "text": [
      "-1\n"
     ]
    }
   ],
   "source": [
    "#  Kadane's Algorithm\n",
    "def maxSubArray(nums):\n",
    "    max_sum = curr_sum = nums[0]\n",
    "    n = len(nums)\n",
    "    for i in range(1,n):\n",
    "        \n",
    "        curr_sum = max(nums[i], curr_sum + nums[i])\n",
    "        max_sum = max(max_sum, curr_sum)\n",
    "\n",
    "    return max_sum\n",
    "arr = list(map(int,input().split()))\n",
    "print(maxSubArray(arr))"
   ]
  },
  {
   "cell_type": "code",
   "execution_count": null,
   "id": "71bece9b-673b-45a7-a70b-bd5a23bdfef3",
   "metadata": {},
   "outputs": [],
   "source": []
  }
 ],
 "metadata": {
  "kernelspec": {
   "display_name": "Python 3 (ipykernel)",
   "language": "python",
   "name": "python3"
  },
  "language_info": {
   "codemirror_mode": {
    "name": "ipython",
    "version": 3
   },
   "file_extension": ".py",
   "mimetype": "text/x-python",
   "name": "python",
   "nbconvert_exporter": "python",
   "pygments_lexer": "ipython3",
   "version": "3.10.11"
  }
 },
 "nbformat": 4,
 "nbformat_minor": 5
}
