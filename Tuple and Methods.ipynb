{
 "cells": [
  {
   "cell_type": "markdown",
   "id": "79b480b6-d4b9-4918-b347-ae329bad625c",
   "metadata": {},
   "source": [
    "## Tuple\n",
    "- Tuple is ordered collection of different data type elements\n",
    "- Tuple is define with `()`\n",
    "- Tuple is **Immutable**\n",
    "- Tuple is Hetrogeneuous Data type\n",
    "- Tuple is index based and Sliceable\n",
    "- Tuple allows the Duplicate values"
   ]
  },
  {
   "cell_type": "code",
   "execution_count": 1,
   "id": "df919685-033a-4302-8430-6692f60de0cb",
   "metadata": {},
   "outputs": [],
   "source": [
    "# example \n",
    "t = (1,2,'a', 'Codegnan', 5.5,2, 1, [1,23,45],10)"
   ]
  },
  {
   "cell_type": "code",
   "execution_count": 3,
   "id": "4a9819f1-9af2-493f-bba2-0cf82db1d1f9",
   "metadata": {},
   "outputs": [
    {
     "name": "stdout",
     "output_type": "stream",
     "text": [
      "<class 'tuple'> <class 'tuple'> <class 'tuple'>\n"
     ]
    }
   ],
   "source": [
    "# initilize empty tuple\n",
    "t1 = ()\n",
    "t4 = tuple()\n",
    "# tuple with mulipule values \n",
    "t2 = (1,2,'a',4.5)\n",
    "# single value tuple \n",
    "t3 = (34,)\n",
    "print(type(t1), type(t2), type(t3))"
   ]
  },
  {
   "cell_type": "code",
   "execution_count": 5,
   "id": "1bb1f25e-8238-4f2b-9e55-5d877f705420",
   "metadata": {},
   "outputs": [
    {
     "name": "stdout",
     "output_type": "stream",
     "text": [
      "5.5\n",
      "2\n",
      "(2, 1, [1, 23, 45])\n",
      "()\n",
      "(1, 2, 5.5, 'Codegnan')\n",
      "(2, 1, [1, 23, 45], 10)\n"
     ]
    }
   ],
   "source": [
    "## indexing and sliceable\n",
    "t = (1,2,'a', 'Codegnan', 5.5,2, 1, [1,23,45],10)\n",
    "print(t[4])\n",
    "print(t[-4])\n",
    "print(t[-4:-1])\n",
    "print(t[-3:2:1])\n",
    "print(t[-3:2:-1])\n",
    "print(t[5:100:1])"
   ]
  },
  {
   "cell_type": "code",
   "execution_count": 8,
   "id": "c26c8ccb-c124-4b11-a1ff-dad5a7474ae7",
   "metadata": {},
   "outputs": [
    {
     "name": "stdin",
     "output_type": "stream",
     "text": [
      " 2\n"
     ]
    },
    {
     "name": "stdout",
     "output_type": "stream",
     "text": [
      "(2,)\n"
     ]
    }
   ],
   "source": [
    "### tuple reading from user \n",
    "t = tuple(map(int, input().split()))\n",
    "print(t)"
   ]
  },
  {
   "cell_type": "code",
   "execution_count": 11,
   "id": "5bdcd070-d20d-41b7-9027-12e20234b095",
   "metadata": {},
   "outputs": [
    {
     "name": "stdout",
     "output_type": "stream",
     "text": [
      "(1, 2, 'hi', 3, 4, 'bye')\n"
     ]
    }
   ],
   "source": [
    "# tuple concatination using '+'\n",
    "t1 = (1,2,'hi')\n",
    "t2 = (3,4,'bye')\n",
    "t3 = t1 + t2\n",
    "print(t3)"
   ]
  },
  {
   "cell_type": "code",
   "execution_count": 12,
   "id": "8d8cfa1d-46aa-4a77-b686-b6d5133ad0c9",
   "metadata": {},
   "outputs": [
    {
     "name": "stdout",
     "output_type": "stream",
     "text": [
      "(1, 2, 'hi', 1, 2, 'hi', 1, 2, 'hi', 1, 2, 'hi')\n"
     ]
    }
   ],
   "source": [
    "# tuple repeate using '*'\n",
    "t1 = (1,2,'hi')\n",
    "print(t1 * 4)"
   ]
  },
  {
   "cell_type": "markdown",
   "id": "422ec43f-ffd3-40f6-b250-0963aed4b0b5",
   "metadata": {},
   "source": [
    "## Tuple Methods\n",
    "- index(value) - Returns index position of value if value is present in the tuple otherwise **ValueError**\n",
    "- count(value) - Return totall occurence of a value in the tuple"
   ]
  },
  {
   "cell_type": "code",
   "execution_count": 13,
   "id": "7a5a71a8-8250-4d34-aa1d-27e9a68da324",
   "metadata": {},
   "outputs": [
    {
     "name": "stdout",
     "output_type": "stream",
     "text": [
      "Count of 1 ele: 2\n",
      "Index of [1,23,45] is: 7\n"
     ]
    }
   ],
   "source": [
    "## count(value), index(value)\n",
    "t = (1,2,'a', 'Codegnan', 5.5,2, 1, [1,23,45],10)\n",
    "count_1 = t.count(1)\n",
    "print(\"Count of 1 ele:\", count_1)\n",
    "ind = t.index([1,23,45])\n",
    "print(\"Index of [1,23,45] is:\", ind)"
   ]
  },
  {
   "cell_type": "code",
   "execution_count": 15,
   "id": "6566c1c5-8328-4729-8236-28e9c82bd175",
   "metadata": {},
   "outputs": [
    {
     "name": "stdout",
     "output_type": "stream",
     "text": [
      "Count of [1,23,45] ele: 1\n"
     ]
    }
   ],
   "source": [
    "## count(value), index(value)\n",
    "t = (1,2,'a', 'Codegnan', 5.5,2, 1, [1,23,45],10)\n",
    "count = t.count([1,23,45])\n",
    "print(\"Count of [1,23,45] ele:\", count)\n"
   ]
  },
  {
   "cell_type": "code",
   "execution_count": 16,
   "id": "26faeab3-7778-41f8-95d1-c911f31d8e00",
   "metadata": {},
   "outputs": [
    {
     "name": "stdout",
     "output_type": "stream",
     "text": [
      "Min value in tuple: 1\n",
      "Max value in tuple: 60\n",
      "sum of tuple: 163\n",
      "length of tuple: 6\n"
     ]
    }
   ],
   "source": [
    "# Build in functions\n",
    "# min(), max(), sum(), len()\n",
    "t = (1,2,20,50,30,60)\n",
    "min_val = min(t)\n",
    "max_val = max(t)\n",
    "sum_tuple = sum(t)\n",
    "length = len(t)\n",
    "print(\"Min value in tuple:\", min_val)\n",
    "print(\"Max value in tuple:\", max_val)\n",
    "print(\"sum of tuple:\", sum_tuple)\n",
    "print(\"length of tuple:\", length)"
   ]
  },
  {
   "cell_type": "code",
   "execution_count": 18,
   "id": "d5a5bdf1-bbe3-4ab8-bdcd-91388da7af1f",
   "metadata": {},
   "outputs": [
    {
     "name": "stdout",
     "output_type": "stream",
     "text": [
      "[1, 2, 20, 30, 50, 60]\n"
     ]
    }
   ],
   "source": [
    "t = (1,2,20,50,30,60)\n",
    "t1 = sorted(t)\n",
    "print(t1)"
   ]
  },
  {
   "cell_type": "code",
   "execution_count": 20,
   "id": "04715aad-8711-4097-94e3-ed82d0c7774a",
   "metadata": {},
   "outputs": [
    {
     "name": "stdout",
     "output_type": "stream",
     "text": [
      "True\n",
      "True\n"
     ]
    }
   ],
   "source": [
    "## membership operators checking\n",
    "t = (1,2,20,50,30,60)\n",
    "print(2 in t)\n",
    "print(255 not in t)"
   ]
  },
  {
   "cell_type": "code",
   "execution_count": 21,
   "id": "e7167c88-fd1a-44b2-a1dd-fec9d9ff20f6",
   "metadata": {},
   "outputs": [
    {
     "name": "stdout",
     "output_type": "stream",
     "text": [
      "(1, 2, 3)\n"
     ]
    }
   ],
   "source": [
    "# list to tuple type conversion\n",
    "l = [1,2,3]\n",
    "t = tuple(l)\n",
    "print(t)"
   ]
  },
  {
   "cell_type": "code",
   "execution_count": 22,
   "id": "5e132adf-af71-46ad-b6da-36e310d5e2a7",
   "metadata": {},
   "outputs": [
    {
     "name": "stdout",
     "output_type": "stream",
     "text": [
      "1 2 3\n"
     ]
    }
   ],
   "source": [
    "# tuple to variable value assign \n",
    "t = (1,2,3)\n",
    "a, b, c = t\n",
    "print(a,b,c)"
   ]
  },
  {
   "cell_type": "code",
   "execution_count": 24,
   "id": "ce98b40b-f82e-4964-b7d7-a4d58a6962af",
   "metadata": {},
   "outputs": [
    {
     "name": "stdout",
     "output_type": "stream",
     "text": [
      "1 [2, 3, 4, 5] 6\n",
      "<class 'int'> <class 'list'> <class 'int'>\n"
     ]
    }
   ],
   "source": [
    "t = (1,2,3,4,5,6)\n",
    "a , *b, c = t\n",
    "print(a, b, c)\n",
    "print(type(a), type(b), type(c))"
   ]
  },
  {
   "cell_type": "code",
   "execution_count": 25,
   "id": "01c53633-74a7-4ca4-b6c3-0306fe011b53",
   "metadata": {},
   "outputs": [
    {
     "name": "stdout",
     "output_type": "stream",
     "text": [
      "1 2 3 4 5 6\n"
     ]
    }
   ],
   "source": [
    "t = (1,2,3,4,5,6)\n",
    "print(*t)"
   ]
  },
  {
   "cell_type": "code",
   "execution_count": null,
   "id": "90cc5ef0-0639-4710-a7f0-e8825d185448",
   "metadata": {},
   "outputs": [],
   "source": []
  }
 ],
 "metadata": {
  "kernelspec": {
   "display_name": "Python 3 (ipykernel)",
   "language": "python",
   "name": "python3"
  },
  "language_info": {
   "codemirror_mode": {
    "name": "ipython",
    "version": 3
   },
   "file_extension": ".py",
   "mimetype": "text/x-python",
   "name": "python",
   "nbconvert_exporter": "python",
   "pygments_lexer": "ipython3",
   "version": "3.10.11"
  }
 },
 "nbformat": 4,
 "nbformat_minor": 5
}
