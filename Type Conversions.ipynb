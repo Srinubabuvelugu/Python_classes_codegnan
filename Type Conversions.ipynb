{
 "cells": [
  {
   "cell_type": "markdown",
   "id": "255274ff-ec42-4f01-b8d9-8107eaa16bf0",
   "metadata": {},
   "source": [
    "## Conversion methods\n",
    "- Integer conversion -`int()`\n",
    "- Float conversion - `float()`\n",
    "- String conversion - `str()`\n",
    "- List conversion - `list()`\n",
    "- Tuple conversion - `tuple()`\n",
    "- Dictionary conversion - `dict()`\n",
    "- Set converstion - `set()`"
   ]
  },
  {
   "cell_type": "code",
   "execution_count": 1,
   "id": "a263904c-2f4b-45ab-9222-eed8b9933b6a",
   "metadata": {},
   "outputs": [
    {
     "name": "stdout",
     "output_type": "stream",
     "text": [
      "24.0\n",
      "24\n"
     ]
    }
   ],
   "source": [
    "# integert to float , and string conversion \n",
    "num = 24\n",
    "print(float(num))\n",
    "print(str(num))"
   ]
  },
  {
   "cell_type": "code",
   "execution_count": 2,
   "id": "b46ff77e-c404-4b49-a7c1-ad3c7b8f691c",
   "metadata": {},
   "outputs": [
    {
     "name": "stdout",
     "output_type": "stream",
     "text": [
      "<class 'float'>\n",
      "24.0\n"
     ]
    }
   ],
   "source": [
    "# integert to float , and string conversion \n",
    "num = 24\n",
    "float_num = float(num)\n",
    "print(type(float_num))\n",
    "print(float_num)\n"
   ]
  },
  {
   "cell_type": "code",
   "execution_count": 4,
   "id": "7ae55615-e4bf-4026-8468-bc9c0ca97146",
   "metadata": {},
   "outputs": [
    {
     "name": "stdout",
     "output_type": "stream",
     "text": [
      "24\n",
      "24.0\n"
     ]
    }
   ],
   "source": [
    "# Float to integet and string conversion\n",
    "num = 24.0\n",
    "print(int(num))\n",
    "print(str(num))"
   ]
  },
  {
   "cell_type": "code",
   "execution_count": 6,
   "id": "04effc26-3d74-4af2-a4f3-4c6e007821e9",
   "metadata": {},
   "outputs": [
    {
     "name": "stdout",
     "output_type": "stream",
     "text": [
      "123\n",
      "['a', 'b', 'c', '1', '2', '3', 'a', 'b']\n",
      "('a', 'b', 'c', '1', '2', '3', 'a', 'b')\n",
      "{'b', '2', '1', '3', 'a', 'c'}\n"
     ]
    }
   ],
   "source": [
    "# string to integet, list, tuple , set\n",
    "s1 = '123'\n",
    "s2 = 'abc123ab'\n",
    "print(int(s1))\n",
    "print(list(s2))\n",
    "print(tuple(s2))\n",
    "print(set(s2))\n"
   ]
  },
  {
   "cell_type": "code",
   "execution_count": 7,
   "id": "23d2270c-50ea-4f70-9905-9009d0475b31",
   "metadata": {},
   "outputs": [
    {
     "name": "stdout",
     "output_type": "stream",
     "text": [
      "[1, 2, 'a', 'Codegnan']\n",
      "{1, 2, 'a', 'Codegnan'}\n",
      "(1, 2, 'a', 'Codegnan')\n"
     ]
    }
   ],
   "source": [
    "# list to string, set, tuple\n",
    "lst = [1,2,'a', 'Codegnan']\n",
    "print(str(lst))\n",
    "print(set(lst))\n",
    "print(tuple(lst))"
   ]
  },
  {
   "cell_type": "code",
   "execution_count": 10,
   "id": "03b4d1a1-34e9-440f-94db-0974e0e9606e",
   "metadata": {},
   "outputs": [
    {
     "ename": "TypeError",
     "evalue": "cannot convert dictionary update sequence element #0 to a sequence",
     "output_type": "error",
     "traceback": [
      "\u001b[1;31m---------------------------------------------------------------------------\u001b[0m",
      "\u001b[1;31mTypeError\u001b[0m                                 Traceback (most recent call last)",
      "Cell \u001b[1;32mIn[10], line 2\u001b[0m\n\u001b[0;32m      1\u001b[0m lst \u001b[38;5;241m=\u001b[39m [\u001b[38;5;241m1\u001b[39m,\u001b[38;5;241m2\u001b[39m,\u001b[38;5;124m'\u001b[39m\u001b[38;5;124ma\u001b[39m\u001b[38;5;124m'\u001b[39m, \u001b[38;5;124m'\u001b[39m\u001b[38;5;124mCodegnan\u001b[39m\u001b[38;5;124m'\u001b[39m]\n\u001b[1;32m----> 2\u001b[0m \u001b[38;5;28mprint\u001b[39m(\u001b[38;5;28;43mdict\u001b[39;49m\u001b[43m(\u001b[49m\u001b[43mlst\u001b[49m\u001b[43m)\u001b[49m)\n",
      "\u001b[1;31mTypeError\u001b[0m: cannot convert dictionary update sequence element #0 to a sequence"
     ]
    }
   ],
   "source": [
    "lst = [1,2,'a', 'Codegnan']\n",
    "print(dict(lst))"
   ]
  },
  {
   "cell_type": "code",
   "execution_count": 11,
   "id": "7c60ae03-b2cf-43e7-b3d8-b08fa6b2fc38",
   "metadata": {},
   "outputs": [
    {
     "name": "stdout",
     "output_type": "stream",
     "text": [
      "{'a': 1, 'b': 2, 'c': 3}\n"
     ]
    }
   ],
   "source": [
    "## list of tuples to dictionary\n",
    "l = [('a',1), ('b',2),('c',3)]\n",
    "print(dict(l))"
   ]
  },
  {
   "cell_type": "code",
   "execution_count": 12,
   "id": "634cc64c-9290-45d1-a4cb-5019fc477864",
   "metadata": {},
   "outputs": [
    {
     "name": "stdout",
     "output_type": "stream",
     "text": [
      "[1, 2, 3, 'a', 'Codegnan']\n",
      "(1, 2, 3, 'a', 'Codegnan')\n"
     ]
    }
   ],
   "source": [
    "# set to string, list, tuple\n",
    "s = {1,2,3,'a','Codegnan'}\n",
    "print(list(s))\n",
    "print(tuple(s))"
   ]
  },
  {
   "cell_type": "code",
   "execution_count": 13,
   "id": "6cc5cbdd-7bb8-4572-836a-1d2e6994ba24",
   "metadata": {},
   "outputs": [
    {
     "name": "stdout",
     "output_type": "stream",
     "text": [
      "[1, 2, 3, 'hi']\n",
      "{1, 2, 3, 'hi'}\n"
     ]
    }
   ],
   "source": [
    "# tuple to list, set \n",
    "t = (1,2,3,'hi')\n",
    "print(list(t))\n",
    "print(set(t))"
   ]
  },
  {
   "cell_type": "markdown",
   "id": "2ad64989-c32d-44ec-b842-a6ade2a3befb",
   "metadata": {},
   "source": [
    "## problem solving Game\n",
    "1. Write a Python program to convert kilometers to miles?\n",
    "2. Write a Python program to convert Celsius to Fahrenheit?\n",
    "3. Write a Python program to display calendar?\n",
    "4. Write a Python program to solve quadratic equation?\n",
    "5. Write a Python program to swap two variables without temp variable?"
   ]
  },
  {
   "cell_type": "code",
   "execution_count": 14,
   "id": "e84997b4-49ba-4df4-b75e-7a977dd249f1",
   "metadata": {},
   "outputs": [
    {
     "name": "stdin",
     "output_type": "stream",
     "text": [
      " 1\n"
     ]
    },
    {
     "name": "stdout",
     "output_type": "stream",
     "text": [
      "0.6215040397762586\n"
     ]
    }
   ],
   "source": [
    "# Write a Python program to convert kilometers to miles?\n",
    "km = int(input())\n",
    "miles = km / 1.609\n",
    "print(miles)"
   ]
  },
  {
   "cell_type": "code",
   "execution_count": 23,
   "id": "c170eb0b-b358-456b-b021-18de27099a79",
   "metadata": {},
   "outputs": [
    {
     "name": "stdin",
     "output_type": "stream",
     "text": [
      " 36\n"
     ]
    },
    {
     "name": "stdout",
     "output_type": "stream",
     "text": [
      "96.8 F\n"
     ]
    }
   ],
   "source": [
    "# Write a Python program to convert Celsius to Fahrenheit?\n",
    "celsius = int(input())\n",
    "fahrenheit = celsius * 9/5 + 32\n",
    "print(str(fahrenheit)  + ' F')"
   ]
  },
  {
   "cell_type": "code",
   "execution_count": 20,
   "id": "7564ce76-d977-45d6-9ff4-33a52dd48047",
   "metadata": {},
   "outputs": [
    {
     "name": "stdin",
     "output_type": "stream",
     "text": [
      " 98\n"
     ]
    },
    {
     "name": "stdout",
     "output_type": "stream",
     "text": [
      "36.666666666666664\n"
     ]
    }
   ],
   "source": [
    "# Write a Python program to convert Fahrenheit to Celsius?\n",
    "fahrenheit = float(input())\n",
    "Celsius = (fahrenheit-32) * 5/9 \n",
    "print(Celsius)"
   ]
  },
  {
   "cell_type": "code",
   "execution_count": 28,
   "id": "536f9f07-0031-42ce-b719-86c5bc237128",
   "metadata": {},
   "outputs": [
    {
     "name": "stdin",
     "output_type": "stream",
     "text": [
      " 3 -5 2\n"
     ]
    },
    {
     "name": "stdout",
     "output_type": "stream",
     "text": [
      "1.0 0.6666666666666666\n"
     ]
    }
   ],
   "source": [
    "# Write a Python program to solve quadratic equation?\n",
    "a,b, c = map(int, input().split())\n",
    "numarator = ((b**2) - (4*a*c))**0.5\n",
    "denomi = 2*a\n",
    "root1 = (-b + numarator)/(denomi)\n",
    "root2 = (-b - numarator)/(denomi)\n",
    "print(root1, root2)"
   ]
  },
  {
   "cell_type": "code",
   "execution_count": 40,
   "id": "261a65a3-d270-49a2-a854-8871b89155f6",
   "metadata": {},
   "outputs": [
    {
     "name": "stdout",
     "output_type": "stream",
     "text": [
      "1\n",
      "1  4  12\n"
     ]
    }
   ],
   "source": [
    "s = '1x^2 + 4x + 12'\n",
    "l = s.split('+')\n",
    "print(str(l[0])[:-4])\n",
    "a, b, c = str(l[0])[:-4], str(l[1])[:-2], l[2]\n",
    "print(a,b,c)"
   ]
  },
  {
   "cell_type": "code",
   "execution_count": 45,
   "id": "66fa0f59-c765-4f2e-8d01-7a35f5f1142a",
   "metadata": {
    "scrolled": true
   },
   "outputs": [
    {
     "name": "stdout",
     "output_type": "stream",
     "text": [
      "     July 2025\n",
      "Mo Tu We Th Fr Sa Su\n",
      "    1  2  3  4  5  6\n",
      " 7  8  9 10 11 12 13\n",
      "14 15 16 17 18 19 20\n",
      "21 22 23 24 25 26 27\n",
      "28 29 30 31\n",
      "\n"
     ]
    }
   ],
   "source": [
    "import calendar\n",
    "#print(calendar.calendar(int(input())))\n",
    "print(calendar.month(2025,7))"
   ]
  },
  {
   "cell_type": "markdown",
   "id": "78b1ae14-1db0-4e44-851d-2f2a0f6e2967",
   "metadata": {},
   "source": [
    "1. Write a Python Program to Check if a Number is Positive, Negative or Zero?\n",
    "2. Write a Python Program to Check if a Number is Odd or Even?\n",
    "3. Write a Python Program to Check Leap Year?\n",
    "4. Write a Python Program to Check Prime Number?\n",
    "5. Write a Python Program to Print all Prime Numbers in an Interval of 1-10000?"
   ]
  },
  {
   "cell_type": "code",
   "execution_count": null,
   "id": "bddfce7a-aa34-47ee-a021-67fade0137d6",
   "metadata": {},
   "outputs": [],
   "source": []
  }
 ],
 "metadata": {
  "kernelspec": {
   "display_name": "Python 3 (ipykernel)",
   "language": "python",
   "name": "python3"
  },
  "language_info": {
   "codemirror_mode": {
    "name": "ipython",
    "version": 3
   },
   "file_extension": ".py",
   "mimetype": "text/x-python",
   "name": "python",
   "nbconvert_exporter": "python",
   "pygments_lexer": "ipython3",
   "version": "3.10.11"
  }
 },
 "nbformat": 4,
 "nbformat_minor": 5
}
