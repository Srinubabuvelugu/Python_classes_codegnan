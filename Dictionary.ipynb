{
 "cells": [
  {
   "cell_type": "markdown",
   "id": "d80f6f24-8f12-43ad-8e68-e9069c4cbf2f",
   "metadata": {},
   "source": [
    "## Dictionary\n",
    "- Dictionary is unordered colletion of key value pairs\n",
    "- keys are unique and hashable\n",
    "- It define with `{key:value}`\n",
    "- In Dictionary values are accessed by using keys\n",
    "- Dictionary are mutable\n"
   ]
  },
  {
   "cell_type": "code",
   "execution_count": 4,
   "id": "8abf08d4-2099-4523-8aba-98571dd1ea69",
   "metadata": {},
   "outputs": [
    {
     "name": "stdout",
     "output_type": "stream",
     "text": [
      "{'a': 1, 'b': 'Z', (1, 2): [1, 2], 5.5: 6.5, 3: ' Codegnan', 'num': 2}\n"
     ]
    }
   ],
   "source": [
    "# example\n",
    "d = {'a': 1, 'b':2, (1,2):[1,2], 5.5: 6.5, 3: ' Codegnan', \"num\": 2, 'b':'Z'}\n",
    "print(d)"
   ]
  },
  {
   "cell_type": "code",
   "execution_count": 5,
   "id": "429dd21c-61d7-439f-8591-fdfb2bd0e14e",
   "metadata": {},
   "outputs": [
    {
     "name": "stdout",
     "output_type": "stream",
     "text": [
      "<class 'dict'> <class 'dict'> <class 'dict'>\n"
     ]
    }
   ],
   "source": [
    "# empty dictionary\n",
    "d1 = {}\n",
    "d2 = dict()\n",
    "# single item dictionary\n",
    "d3 = {\"Language\":\"Python\"}\n",
    "print(type(d1), type(d2), type(d3))"
   ]
  },
  {
   "cell_type": "code",
   "execution_count": 8,
   "id": "7c60b25d-181e-4375-94bb-98e3cba3a6a6",
   "metadata": {},
   "outputs": [
    {
     "name": "stdout",
     "output_type": "stream",
     "text": [
      "1\n",
      "[1, 2]\n",
      "2\n",
      "Z\n"
     ]
    }
   ],
   "source": [
    "# accessing values using keys\n",
    "d = {'a': 1, 'b':2, (1,2):[1,2], 5.5: 6.5, 3: ' Codegnan', \"num\": 2, 'b':'Z'}\n",
    "print(d['a'])\n",
    "print(d[(1,2)])\n",
    "print(d['num'])\n",
    "print(d['b'])"
   ]
  },
  {
   "cell_type": "code",
   "execution_count": 10,
   "id": "9432ea0a-806e-4cb8-b051-25f9b27ca1c2",
   "metadata": {},
   "outputs": [
    {
     "name": "stdout",
     "output_type": "stream",
     "text": [
      "{'language': 'Java', 'version': '3.13.5', 'level': 'High level'}\n"
     ]
    }
   ],
   "source": [
    "# adding or updating the items\n",
    "d = {'language':'Python', 'version': '3.13.5'}\n",
    "d['language'] = 'Java'\n",
    "d['level'] = 'High level'\n",
    "print(d)"
   ]
  },
  {
   "cell_type": "markdown",
   "id": "8d3dd656-855d-4474-bd25-c03878a1e097",
   "metadata": {},
   "source": [
    "## Dictionary methods\n"
   ]
  },
  {
   "cell_type": "markdown",
   "id": "908c798a-b85a-4c48-b25e-80b1107a9d5a",
   "metadata": {},
   "source": [
    "- keys() - Returns the keys of dictionary\n",
    "- values() - Returns values of dictionary\n",
    "- items() - returns the list of tuple of key value pairs\n",
    "- pop(key) - return and removes the value of key\n",
    "- popitem() - return and removes the last updated item\n",
    "- update() - update the current dictionary items with new_dictionary items\n",
    "- clear() - removes the all items from dictionary"
   ]
  },
  {
   "cell_type": "code",
   "execution_count": 27,
   "id": "2c776dca-9a54-4149-80c9-52f098927791",
   "metadata": {},
   "outputs": [
    {
     "name": "stdout",
     "output_type": "stream",
     "text": [
      "<class 'dict_keys'> <class 'dict_values'> <class 'dict_items'>\n",
      "dict_keys(['language', 'version', 'level'])\n",
      "dict_values(['Python', '3.13.5', 'High level'])\n",
      "dict_items([('language', 'Python'), ('version', '3.13.5'), ('level', 'High level')])\n",
      "['language', 'version', 'level']\n"
     ]
    }
   ],
   "source": [
    "## keys(), values(), items()\n",
    "d = {'language': 'Python', 'version': '3.13.5', 'level': 'High level'}\n",
    "keys = d.keys()\n",
    "values = d.values()\n",
    "items = d.items()\n",
    "print(type(keys), type(values), type(items))\n",
    "print(keys)\n",
    "print(values)\n",
    "print(items)\n",
    "print(list(keys))\n"
   ]
  },
  {
   "cell_type": "code",
   "execution_count": 25,
   "id": "ac0a31be-2747-4dbb-a49e-fef04d5d7ea6",
   "metadata": {},
   "outputs": [
    {
     "name": "stdout",
     "output_type": "stream",
     "text": [
      "<class 'list'>\n",
      "('language', 'Python')\n",
      "version 3.13.5\n"
     ]
    }
   ],
   "source": [
    "## keys(), values(), items()\n",
    "d = {'language': 'Python', 'version': '3.13.5', 'level': 'High level'}\n",
    "items = d.items()\n",
    "# print(type(items))\n",
    "# print(items)\n",
    "items_list = list(items)\n",
    "print(type(items_list))\n",
    "print(items_list[0])\n",
    "\n",
    "a, b = items_list[1]\n",
    "print(a, b)"
   ]
  },
  {
   "cell_type": "code",
   "execution_count": 28,
   "id": "b9eef21e-634e-42fa-b368-f34732c6e5aa",
   "metadata": {},
   "outputs": [
    {
     "name": "stdout",
     "output_type": "stream",
     "text": [
      "High level\n",
      "('version', '3.13.5')\n",
      "{'language': 'Python'}\n"
     ]
    }
   ],
   "source": [
    "# pop(key), popitem() \n",
    "d = {'language': 'Python', 'version': '3.13.5', 'level': 'High level'}\n",
    "val = d.pop('level')\n",
    "print(val)\n",
    "item = d.popitem()\n",
    "print(item)\n",
    "print(d)"
   ]
  },
  {
   "cell_type": "code",
   "execution_count": 29,
   "id": "a4262db3-b99b-4503-ab21-185752fe0c31",
   "metadata": {},
   "outputs": [
    {
     "name": "stdout",
     "output_type": "stream",
     "text": [
      "('level', 'High level')\n",
      "{'language': 'Python', 'version': '3.13.5'}\n"
     ]
    }
   ],
   "source": [
    "# pop(key), popitem() \n",
    "d = {'language': 'Python', 'version': '3.13.5', 'level': 'High level'}\n",
    "item = d.popitem()\n",
    "print(item)\n",
    "print(d)"
   ]
  },
  {
   "cell_type": "code",
   "execution_count": 30,
   "id": "15df744c-02e0-4882-9be5-ab463dac4bd5",
   "metadata": {},
   "outputs": [
    {
     "name": "stdout",
     "output_type": "stream",
     "text": [
      "{'language': 'Java', 'version': '3.13.5', 'level': 'High level'}\n",
      "{'language': 'Java', 'level': 'High level'}\n"
     ]
    }
   ],
   "source": [
    "## update() , clear()\n",
    "d1 = {'language': 'Python', 'version': '3.13.5'}\n",
    "d2 = {'language':'Java', 'level': 'High level'}\n",
    "d1.update(d2)\n",
    "print(d1)\n",
    "print(d2)"
   ]
  },
  {
   "cell_type": "code",
   "execution_count": 31,
   "id": "7586bace-3cba-4315-a113-b52e0e60f097",
   "metadata": {},
   "outputs": [
    {
     "name": "stdout",
     "output_type": "stream",
     "text": [
      "{'language': 'Python', 'version': '3.13.5'}\n",
      "{'language': 'Python', 'level': 'High level', 'version': '3.13.5'}\n"
     ]
    }
   ],
   "source": [
    "## update() , clear()\n",
    "d1 = {'language': 'Python', 'version': '3.13.5'}\n",
    "d2 = {'language':'Java', 'level': 'High level'}\n",
    "d2.update(d1)\n",
    "print(d1)\n",
    "print(d2)"
   ]
  },
  {
   "cell_type": "code",
   "execution_count": 33,
   "id": "275213cc-f7e2-4af3-a953-431484218c5f",
   "metadata": {},
   "outputs": [
    {
     "name": "stdout",
     "output_type": "stream",
     "text": [
      "{}\n"
     ]
    }
   ],
   "source": [
    "# clear()\n",
    "d1 = {'language': 'Python', 'version': '3.13.5'}\n",
    "d1.clear()\n",
    "print(d1)\n"
   ]
  },
  {
   "cell_type": "code",
   "execution_count": null,
   "id": "8a4467b9-39f8-44bd-8a03-54c1e9e7fb83",
   "metadata": {},
   "outputs": [],
   "source": []
  }
 ],
 "metadata": {
  "kernelspec": {
   "display_name": "Python 3 (ipykernel)",
   "language": "python",
   "name": "python3"
  },
  "language_info": {
   "codemirror_mode": {
    "name": "ipython",
    "version": 3
   },
   "file_extension": ".py",
   "mimetype": "text/x-python",
   "name": "python",
   "nbconvert_exporter": "python",
   "pygments_lexer": "ipython3",
   "version": "3.10.11"
  }
 },
 "nbformat": 4,
 "nbformat_minor": 5
}
