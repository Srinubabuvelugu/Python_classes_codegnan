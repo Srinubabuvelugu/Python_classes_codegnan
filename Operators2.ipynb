{
 "cells": [
  {
   "cell_type": "markdown",
   "id": "a4280750-e22f-4a2e-b648-707283046211",
   "metadata": {},
   "source": [
    "## Assignment Operators"
   ]
  },
  {
   "cell_type": "markdown",
   "id": "56a807ce-07f5-4dd4-8ac1-7a2702ac960e",
   "metadata": {},
   "source": [
    "- =     assign                           x = 10\n",
    "- +=    addition assignment operator     x += 1    => x = x + 1\n",
    "- -=    sub assignment op                x -= 1    => x = x - 1\n",
    "- *=     mul assignment op               x *= 2    => x = x * 2\n",
    "- /=    division assignment operator     x /= 2    => x = x / 2\n",
    "- %=    modulus assignment operator      x %= 2    => x = x % 2\n",
    "- //=    Floor division Opertor          x  //= 2  => x = x // 2\n",
    "- **=   Exponactial Assignment operator  x **= 2   => x = x ** 2"
   ]
  },
  {
   "cell_type": "code",
   "execution_count": 1,
   "id": "873c99e0-72b3-452a-90d2-697385153b7a",
   "metadata": {},
   "outputs": [
    {
     "name": "stdout",
     "output_type": "stream",
     "text": [
      "11\n"
     ]
    }
   ],
   "source": [
    "num = 10 \n",
    "num += 1\n",
    "print(num)"
   ]
  },
  {
   "cell_type": "code",
   "execution_count": 2,
   "id": "be880d05-d4bc-40f0-b909-4683bf1e2a36",
   "metadata": {},
   "outputs": [
    {
     "name": "stdout",
     "output_type": "stream",
     "text": [
      "9\n"
     ]
    }
   ],
   "source": [
    "num = 10 \n",
    "num -= 1\n",
    "print(num)"
   ]
  },
  {
   "cell_type": "code",
   "execution_count": 3,
   "id": "3efaec54-51c0-4e82-8051-a605f2d22387",
   "metadata": {},
   "outputs": [
    {
     "name": "stdout",
     "output_type": "stream",
     "text": [
      "20\n"
     ]
    }
   ],
   "source": [
    "num = 10 \n",
    "num *= 2\n",
    "print(num)"
   ]
  },
  {
   "cell_type": "markdown",
   "id": "4fc74bb9-d02b-49e0-a672-86e4a559c740",
   "metadata": {},
   "source": [
    "## Membeship Operators\n",
    "- it checks the weather the value is present in the sequence or not\n",
    "- if value is present in the sequence it returns \"True\" otherwise \"False\""
   ]
  },
  {
   "cell_type": "markdown",
   "id": "e3045470-c06e-4b97-866e-e6f2afcc2f67",
   "metadata": {},
   "source": [
    "- in\n",
    "- not in "
   ]
  },
  {
   "cell_type": "code",
   "execution_count": 10,
   "id": "58bdc2a7-0310-436e-ac4d-b112c494d06c",
   "metadata": {},
   "outputs": [
    {
     "name": "stdout",
     "output_type": "stream",
     "text": [
      "True\n"
     ]
    }
   ],
   "source": [
    "print(2 in [1,2,3,4,5])"
   ]
  },
  {
   "cell_type": "code",
   "execution_count": 5,
   "id": "99ab86c0-d258-44ac-adf0-f3c2788d1012",
   "metadata": {},
   "outputs": [
    {
     "data": {
      "text/plain": [
       "False"
      ]
     },
     "execution_count": 5,
     "metadata": {},
     "output_type": "execute_result"
    }
   ],
   "source": [
    "print(20 in [1,2,3,4,5]"
   ]
  },
  {
   "cell_type": "code",
   "execution_count": 7,
   "id": "a6ac6cc2-4a2f-46fc-b461-928f3d979bf2",
   "metadata": {},
   "outputs": [
    {
     "data": {
      "text/plain": [
       "True"
      ]
     },
     "execution_count": 7,
     "metadata": {},
     "output_type": "execute_result"
    }
   ],
   "source": [
    "2 in {1:1, 2:5, 3:3}"
   ]
  },
  {
   "cell_type": "code",
   "execution_count": 8,
   "id": "1358eb32-339f-470c-a9ae-51b3f409f454",
   "metadata": {},
   "outputs": [
    {
     "data": {
      "text/plain": [
       "True"
      ]
     },
     "execution_count": 8,
     "metadata": {},
     "output_type": "execute_result"
    }
   ],
   "source": [
    "20 not in [1,2,3,4,5]"
   ]
  },
  {
   "cell_type": "code",
   "execution_count": 9,
   "id": "ce36ff0c-eac3-4902-b496-e190627a6ec0",
   "metadata": {},
   "outputs": [
    {
     "data": {
      "text/plain": [
       "False"
      ]
     },
     "execution_count": 9,
     "metadata": {},
     "output_type": "execute_result"
    }
   ],
   "source": [
    "2 not in [1,2,3,4,5]"
   ]
  },
  {
   "cell_type": "markdown",
   "id": "c64c235b-c627-4fd7-9488-e9e6c85691ed",
   "metadata": {},
   "source": [
    "## Identity Operators\n",
    " - it checks the id of an object"
   ]
  },
  {
   "cell_type": "markdown",
   "id": "7e720f7c-0759-4081-95ea-1abbf1f005af",
   "metadata": {},
   "source": [
    "- is\n",
    "- is not\n",
    "  "
   ]
  },
  {
   "cell_type": "code",
   "execution_count": 12,
   "id": "af82c962-6fc0-4154-ae90-b8764e18cc85",
   "metadata": {},
   "outputs": [
    {
     "name": "stdout",
     "output_type": "stream",
     "text": [
      "2265009553936\n"
     ]
    }
   ],
   "source": [
    "n = 10\n",
    "print(id(n))"
   ]
  },
  {
   "cell_type": "code",
   "execution_count": 13,
   "id": "f100f87e-d8c3-4913-8d14-ca7273db79ef",
   "metadata": {},
   "outputs": [
    {
     "name": "stdout",
     "output_type": "stream",
     "text": [
      "2265009553936\n",
      "2265009553936\n"
     ]
    }
   ],
   "source": [
    "num1 = 10\n",
    "num2 = 10\n",
    "print(id(num1))\n",
    "print(id(num2))"
   ]
  },
  {
   "cell_type": "code",
   "execution_count": 14,
   "id": "6c7a40b4-311c-4506-b116-24789f9e2a40",
   "metadata": {},
   "outputs": [
    {
     "name": "stdout",
     "output_type": "stream",
     "text": [
      "True\n"
     ]
    }
   ],
   "source": [
    "print(num1 is num2)"
   ]
  },
  {
   "cell_type": "code",
   "execution_count": 15,
   "id": "dfb8beff-cc2a-4c1d-a255-3a087becb717",
   "metadata": {},
   "outputs": [
    {
     "name": "stdout",
     "output_type": "stream",
     "text": [
      "False\n"
     ]
    }
   ],
   "source": [
    "l1 = [1,2,3]\n",
    "l2 = [1,2,3]\n",
    "print(l1 is l2)"
   ]
  },
  {
   "cell_type": "code",
   "execution_count": 16,
   "id": "b9632132-1294-4425-bd38-9fee9432af74",
   "metadata": {},
   "outputs": [
    {
     "name": "stdout",
     "output_type": "stream",
     "text": [
      "2265090093120\n",
      "2265084604672\n"
     ]
    }
   ],
   "source": [
    "print(id(l1))\n",
    "print(id(l2))"
   ]
  },
  {
   "cell_type": "code",
   "execution_count": 17,
   "id": "d4154883-7f9c-446a-b7cc-90816ea0f57e",
   "metadata": {},
   "outputs": [
    {
     "name": "stdout",
     "output_type": "stream",
     "text": [
      "True\n"
     ]
    }
   ],
   "source": [
    "l1 = [1,2,3]\n",
    "l2 = l1\n",
    "print(l1 is l2)"
   ]
  },
  {
   "cell_type": "code",
   "execution_count": 18,
   "id": "4c06778a-a9ef-4663-8ff0-022d0622f98e",
   "metadata": {},
   "outputs": [
    {
     "name": "stdout",
     "output_type": "stream",
     "text": [
      "True\n"
     ]
    }
   ],
   "source": [
    "## is not operator\n",
    "l1 = [1,2,3]\n",
    "l2 = [1,2,3]\n",
    "print(l1 is not l2)"
   ]
  },
  {
   "cell_type": "code",
   "execution_count": 22,
   "id": "e322eef2-28b8-4488-a735-58b830f04790",
   "metadata": {},
   "outputs": [
    {
     "name": "stdout",
     "output_type": "stream",
     "text": [
      "False\n"
     ]
    }
   ],
   "source": [
    "t1 = (1,2,3)\n",
    "t2 = (1,2,3)\n",
    "print(t1 is t2)"
   ]
  },
  {
   "cell_type": "code",
   "execution_count": 23,
   "id": "b96137f8-1f86-4456-b4a4-f6b91e4860f7",
   "metadata": {},
   "outputs": [
    {
     "name": "stdout",
     "output_type": "stream",
     "text": [
      "2265090094400\n",
      "2265090290816\n"
     ]
    }
   ],
   "source": [
    "print(id(t1))\n",
    "print(id(t2))"
   ]
  },
  {
   "cell_type": "markdown",
   "id": "ded91031-555d-43ef-8627-b84e91eec84b",
   "metadata": {},
   "source": [
    "## Bitwise Operators"
   ]
  },
  {
   "cell_type": "raw",
   "id": "909ca42e-5856-4814-bb3b-3388d11066f0",
   "metadata": {},
   "source": [
    "- &   AND\n",
    "- |   OR\n",
    "- ^   XOR\n",
    "- ~   NOT\n",
    "-  >> Right Shift\n",
    "   << Left shift"
   ]
  },
  {
   "cell_type": "code",
   "execution_count": 25,
   "id": "eac71a15-b0b1-4560-ab98-5e39175f71d3",
   "metadata": {},
   "outputs": [
    {
     "data": {
      "text/plain": [
       "2"
      ]
     },
     "execution_count": 25,
     "metadata": {},
     "output_type": "execute_result"
    }
   ],
   "source": [
    "2 & 10\n"
   ]
  },
  {
   "cell_type": "code",
   "execution_count": 26,
   "id": "8cf5ba39-80a0-4020-896d-cc6c158287ad",
   "metadata": {},
   "outputs": [
    {
     "data": {
      "text/plain": [
       "10"
      ]
     },
     "execution_count": 26,
     "metadata": {},
     "output_type": "execute_result"
    }
   ],
   "source": [
    "10 | 2"
   ]
  },
  {
   "cell_type": "code",
   "execution_count": 27,
   "id": "4d0568ef-a92f-4c46-93dc-3be16dd3e2e3",
   "metadata": {},
   "outputs": [
    {
     "data": {
      "text/plain": [
       "14"
      ]
     },
     "execution_count": 27,
     "metadata": {},
     "output_type": "execute_result"
    }
   ],
   "source": [
    "12 | 2"
   ]
  },
  {
   "cell_type": "code",
   "execution_count": 29,
   "id": "9fdb52f3-1eb1-4ce5-80be-5dbbbed7948d",
   "metadata": {},
   "outputs": [
    {
     "data": {
      "text/plain": [
       "14"
      ]
     },
     "execution_count": 29,
     "metadata": {},
     "output_type": "execute_result"
    }
   ],
   "source": [
    "12 ^ 2"
   ]
  },
  {
   "cell_type": "code",
   "execution_count": 30,
   "id": "521c69f7-ea33-43f2-8701-c6e632f80ee9",
   "metadata": {},
   "outputs": [
    {
     "data": {
      "text/plain": [
       "12"
      ]
     },
     "execution_count": 30,
     "metadata": {},
     "output_type": "execute_result"
    }
   ],
   "source": [
    "15 ^ 3"
   ]
  },
  {
   "cell_type": "code",
   "execution_count": 33,
   "id": "78f0de77-6a14-46f7-9d41-f0bdf16c3002",
   "metadata": {},
   "outputs": [
    {
     "data": {
      "text/plain": [
       "12"
      ]
     },
     "execution_count": 33,
     "metadata": {},
     "output_type": "execute_result"
    }
   ],
   "source": [
    "3 << 2\n"
   ]
  },
  {
   "cell_type": "code",
   "execution_count": null,
   "id": "b81f9f9c-cf09-4bbc-8471-5642010e97bc",
   "metadata": {},
   "outputs": [],
   "source": []
  }
 ],
 "metadata": {
  "kernelspec": {
   "display_name": "Python 3 (ipykernel)",
   "language": "python",
   "name": "python3"
  },
  "language_info": {
   "codemirror_mode": {
    "name": "ipython",
    "version": 3
   },
   "file_extension": ".py",
   "mimetype": "text/x-python",
   "name": "python",
   "nbconvert_exporter": "python",
   "pygments_lexer": "ipython3",
   "version": "3.10.11"
  }
 },
 "nbformat": 4,
 "nbformat_minor": 5
}
