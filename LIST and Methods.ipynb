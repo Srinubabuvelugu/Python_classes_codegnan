{
 "cells": [
  {
   "cell_type": "markdown",
   "id": "e59a117d-e27f-432f-abef-498a403afb62",
   "metadata": {},
   "source": [
    " ## list \n",
    " - list is collection of different data type elements\n",
    " - list is mutable\n",
    " - list is index based and slicleable\n",
    " - list is denotes with `[]`\n",
    " - list constains duplicalte values"
   ]
  },
  {
   "cell_type": "code",
   "execution_count": 1,
   "id": "22b3ebe8-ed37-4ba2-a900-6f25034daa6c",
   "metadata": {},
   "outputs": [],
   "source": [
    "l = [1,2,3, 'a','b',5.5, 6,1,2,3]"
   ]
  },
  {
   "cell_type": "code",
   "execution_count": 2,
   "id": "0e0fe057-4ca8-4d8f-b41d-5785f640491a",
   "metadata": {},
   "outputs": [
    {
     "data": {
      "text/plain": [
       "1"
      ]
     },
     "execution_count": 2,
     "metadata": {},
     "output_type": "execute_result"
    }
   ],
   "source": [
    "#Mutable \n",
    "l[0]"
   ]
  },
  {
   "cell_type": "code",
   "execution_count": 4,
   "id": "a77ae0fc-cfc4-4f9e-bccd-58ac4003f3aa",
   "metadata": {},
   "outputs": [
    {
     "name": "stdout",
     "output_type": "stream",
     "text": [
      "[100, 2, 3, 'a', 'b', 5.5, 6, 1, 2, 3]\n"
     ]
    }
   ],
   "source": [
    "l[0] = 100\n",
    "print(l)"
   ]
  },
  {
   "cell_type": "code",
   "execution_count": 5,
   "id": "72dae0c9-b2e2-470f-8bc6-df47f931164a",
   "metadata": {},
   "outputs": [
    {
     "ename": "TypeError",
     "evalue": "'str' object does not support item assignment",
     "output_type": "error",
     "traceback": [
      "\u001b[1;31m---------------------------------------------------------------------------\u001b[0m",
      "\u001b[1;31mTypeError\u001b[0m                                 Traceback (most recent call last)",
      "Cell \u001b[1;32mIn[5], line 2\u001b[0m\n\u001b[0;32m      1\u001b[0m s \u001b[38;5;241m=\u001b[39m \u001b[38;5;124m'\u001b[39m\u001b[38;5;124mabcd\u001b[39m\u001b[38;5;124m'\u001b[39m\n\u001b[1;32m----> 2\u001b[0m \u001b[43ms\u001b[49m\u001b[43m[\u001b[49m\u001b[38;5;241;43m0\u001b[39;49m\u001b[43m]\u001b[49m \u001b[38;5;241m=\u001b[39m \u001b[38;5;124m'\u001b[39m\u001b[38;5;124mz\u001b[39m\u001b[38;5;124m'\u001b[39m\n\u001b[0;32m      3\u001b[0m \u001b[38;5;28mprint\u001b[39m(s)\n",
      "\u001b[1;31mTypeError\u001b[0m: 'str' object does not support item assignment"
     ]
    }
   ],
   "source": [
    "s = 'abcd'\n",
    "s[0] = 'z'\n",
    "print(s)"
   ]
  },
  {
   "cell_type": "code",
   "execution_count": 8,
   "id": "bfa3ae20-1490-40c9-a541-7f039612b0b2",
   "metadata": {},
   "outputs": [
    {
     "name": "stdout",
     "output_type": "stream",
     "text": [
      "1\n",
      "3\n",
      "5.5\n",
      "1\n"
     ]
    }
   ],
   "source": [
    "# index based and sliceable\n",
    "l = [1,2,3, 'a','b',5.5, 6,1,2,3]\n",
    "print(l[0])\n",
    "print(l[-1])\n",
    "print(l[5])\n",
    "print(l[-3])"
   ]
  },
  {
   "cell_type": "code",
   "execution_count": 11,
   "id": "4f7a70dd-4c5c-4023-8823-917225390e43",
   "metadata": {},
   "outputs": [
    {
     "name": "stdout",
     "output_type": "stream",
     "text": [
      "[3, 'a']\n",
      "[3, 'a', 'b', 5.5, 6, 1, 2, 3]\n",
      "[1, 2, 3, 'a', 'b', 5.5]\n"
     ]
    }
   ],
   "source": [
    "l = [1,2,3, 'a','b',5.5, 6,1,2,3]\n",
    "print(l[2:4])\n",
    "print(l[2:])\n",
    "print(l[:-4])"
   ]
  },
  {
   "cell_type": "code",
   "execution_count": 12,
   "id": "aa974379-c1f2-4454-9b6a-57bfa882eb59",
   "metadata": {},
   "outputs": [
    {
     "name": "stdout",
     "output_type": "stream",
     "text": [
      "<class 'list'> <class 'list'>\n"
     ]
    }
   ],
   "source": [
    "# create empty list \n",
    "lst = []\n",
    "lst1 = list()\n",
    "print(type(lst), type(lst1))"
   ]
  },
  {
   "cell_type": "code",
   "execution_count": 14,
   "id": "49c51aab-9fed-4835-95a9-08a87864861d",
   "metadata": {},
   "outputs": [
    {
     "data": {
      "text/plain": [
       "1"
      ]
     },
     "execution_count": 14,
     "metadata": {},
     "output_type": "execute_result"
    }
   ],
   "source": [
    "lst = [0]\n",
    "len(lst)"
   ]
  },
  {
   "cell_type": "code",
   "execution_count": null,
   "id": "cfc0f6d3-1f13-4973-8f04-99cee0774ad1",
   "metadata": {},
   "outputs": [],
   "source": [
    "# read list of element from user"
   ]
  },
  {
   "cell_type": "code",
   "execution_count": 15,
   "id": "0a7f084a-9df4-4cdf-bcd4-3ad11925105d",
   "metadata": {},
   "outputs": [
    {
     "name": "stdin",
     "output_type": "stream",
     "text": [
      " 1 2 3 4\n"
     ]
    },
    {
     "data": {
      "text/plain": [
       "['1', '2', '3', '4']"
      ]
     },
     "execution_count": 15,
     "metadata": {},
     "output_type": "execute_result"
    }
   ],
   "source": [
    "input().split()"
   ]
  },
  {
   "cell_type": "code",
   "execution_count": 16,
   "id": "2f5c457b-777b-4430-9f91-68c236d99119",
   "metadata": {},
   "outputs": [
    {
     "name": "stdin",
     "output_type": "stream",
     "text": [
      " 1 2 3 4\n"
     ]
    },
    {
     "data": {
      "text/plain": [
       "<map at 0x14d2c2ea860>"
      ]
     },
     "execution_count": 16,
     "metadata": {},
     "output_type": "execute_result"
    }
   ],
   "source": [
    "map(int, input().split())\n"
   ]
  },
  {
   "cell_type": "code",
   "execution_count": 18,
   "id": "2ded7baf-cb30-4df8-ad19-792ede01cf6d",
   "metadata": {},
   "outputs": [
    {
     "name": "stdin",
     "output_type": "stream",
     "text": [
      " 1 2 3 4\n"
     ]
    },
    {
     "name": "stdout",
     "output_type": "stream",
     "text": [
      "[1, 2, 3, 4]\n"
     ]
    }
   ],
   "source": [
    "lst = list(map(int, input().split()))\n",
    "print(lst)"
   ]
  },
  {
   "cell_type": "code",
   "execution_count": 20,
   "id": "8490bd61-3d46-4077-bccd-d286ca5c2ac3",
   "metadata": {},
   "outputs": [
    {
     "name": "stdin",
     "output_type": "stream",
     "text": [
      " 1 2 a b\n"
     ]
    },
    {
     "ename": "ValueError",
     "evalue": "invalid literal for int() with base 10: 'a'",
     "output_type": "error",
     "traceback": [
      "\u001b[1;31m---------------------------------------------------------------------------\u001b[0m",
      "\u001b[1;31mValueError\u001b[0m                                Traceback (most recent call last)",
      "Cell \u001b[1;32mIn[20], line 1\u001b[0m\n\u001b[1;32m----> 1\u001b[0m lst \u001b[38;5;241m=\u001b[39m \u001b[38;5;28;43mlist\u001b[39;49m\u001b[43m(\u001b[49m\u001b[38;5;28;43mmap\u001b[39;49m\u001b[43m(\u001b[49m\u001b[38;5;28;43mint\u001b[39;49m\u001b[43m,\u001b[49m\u001b[43m \u001b[49m\u001b[38;5;28;43minput\u001b[39;49m\u001b[43m(\u001b[49m\u001b[43m)\u001b[49m\u001b[38;5;241;43m.\u001b[39;49m\u001b[43msplit\u001b[49m\u001b[43m(\u001b[49m\u001b[43m)\u001b[49m\u001b[43m)\u001b[49m\u001b[43m)\u001b[49m\n\u001b[0;32m      2\u001b[0m \u001b[38;5;28mprint\u001b[39m(lst)\n",
      "\u001b[1;31mValueError\u001b[0m: invalid literal for int() with base 10: 'a'"
     ]
    }
   ],
   "source": [
    "lst = list(map(int, input().split()))\n",
    "print(lst)"
   ]
  },
  {
   "cell_type": "code",
   "execution_count": 19,
   "id": "5564f258-5ed4-4c2e-bc35-7ce6a8d2e22d",
   "metadata": {},
   "outputs": [
    {
     "name": "stdin",
     "output_type": "stream",
     "text": [
      " 1 2 3 4\n"
     ]
    },
    {
     "name": "stdout",
     "output_type": "stream",
     "text": [
      "[1.0, 2.0, 3.0, 4.0]\n"
     ]
    }
   ],
   "source": [
    "lst = list(map(float, input().split()))\n",
    "print(lst)"
   ]
  },
  {
   "cell_type": "code",
   "execution_count": 21,
   "id": "e8a63363-60a7-4d15-a0ba-f5590c8ad1ac",
   "metadata": {},
   "outputs": [
    {
     "name": "stdin",
     "output_type": "stream",
     "text": [
      " 1 2 3\n"
     ]
    },
    {
     "name": "stdout",
     "output_type": "stream",
     "text": [
      "['1', '2', '3']\n"
     ]
    }
   ],
   "source": [
    "lst = list(map(str, input().split()))\n",
    "print(lst)"
   ]
  },
  {
   "cell_type": "code",
   "execution_count": 22,
   "id": "0114425f-4133-455d-a796-16ee1de162f6",
   "metadata": {},
   "outputs": [
    {
     "name": "stdin",
     "output_type": "stream",
     "text": [
      " 1 2 a b\n"
     ]
    },
    {
     "name": "stdout",
     "output_type": "stream",
     "text": [
      "['1', '2', 'a', 'b']\n"
     ]
    }
   ],
   "source": [
    "lst = list(map(str, input().split()))\n",
    "print(lst)"
   ]
  },
  {
   "cell_type": "code",
   "execution_count": 24,
   "id": "07d023cf-9f4f-411f-825b-89671a457f05",
   "metadata": {},
   "outputs": [
    {
     "name": "stdout",
     "output_type": "stream",
     "text": [
      "[1, 2, 3, 4, 5]\n"
     ]
    }
   ],
   "source": [
    "# list concatination using '+'\n",
    "l1 = [1,2,3]\n",
    "l2 = [4,5]\n",
    "print(l1+l2)"
   ]
  },
  {
   "cell_type": "code",
   "execution_count": 25,
   "id": "d1352020-8213-4fdb-ae8e-18e6b1cc32fc",
   "metadata": {},
   "outputs": [
    {
     "name": "stdout",
     "output_type": "stream",
     "text": [
      "[1, 2, 3, 1, 2, 3, 1, 2, 3]\n"
     ]
    }
   ],
   "source": [
    "# list repetation using '*'\n",
    "l1 = [1,2,3]\n",
    "print(l1 * 3)"
   ]
  },
  {
   "cell_type": "markdown",
   "id": "85d3158f-3ae4-43f6-81ef-64e074ba4cdc",
   "metadata": {},
   "source": [
    "## List Methods"
   ]
  },
  {
   "cell_type": "markdown",
   "id": "02298a3b-da0e-465d-9057-dbda32583ef4",
   "metadata": {},
   "source": [
    "- append(value) - it add the single value at end of list\n",
    "- extend(iterable) - it add the iterable values at end of list\n",
    "- insert(position, value) - add the value at specified position and followed values are right shifted\n",
    "- index(vlaue) - returns the first position of value, otherwise `ValueError`\n",
    "- remove(value) - it removes the value at first occurance position\n",
    "- pop() - returns and removes the pop value as per specified position, otherwise pops the last value\n",
    "- clear() - removes the all elements from list\n",
    "- del - removes the list\n",
    "- count(value) - returns the total occurance of a value in the list\n",
    "- len(list_name) - total elements in the list or length of list\n",
    "- min(list_name) - returns the min value from the list\n",
    "- max(list_name) - returns the max value from the list\n",
    "- sum(list_name) - sums the all elements in the list\n",
    "\n",
    "- "
   ]
  },
  {
   "cell_type": "code",
   "execution_count": 26,
   "id": "7e87eb62-ce56-43a9-bb87-3ba9f3c2db5d",
   "metadata": {},
   "outputs": [
    {
     "name": "stdout",
     "output_type": "stream",
     "text": [
      "original list: [1, 2, 3, '3a', 'b', 5.5, 6, 1, 2, 3]\n",
      "After Append operation: [1, 2, 3, '3a', 'b', 5.5, 6, 1, 2, 3, 100]\n",
      "After Extend Operation: [1, 2, 3, '3a', 'b', 5.5, 6, 1, 2, 3, 100, 200, 300]\n",
      "After insert Operation: [1, 2, 3, '3a', 'Codegnan', 'b', 5.5, 6, 1, 2, 3, 100, 200, 300]\n"
     ]
    }
   ],
   "source": [
    "l = [1,2,3, '3a','b',5.5, 6,1,2,3]\n",
    "# append(), extend(), insert()\n",
    "print(\"original list:\",l)\n",
    "l.append(100)\n",
    "print(\"After Append operation:\",l)\n",
    "l.extend([200,300])\n",
    "print(\"After Extend Operation:\",l)\n",
    "l.insert(4, 'Codegnan')\n",
    "print(\"After insert Operation:\", l)"
   ]
  },
  {
   "cell_type": "code",
   "execution_count": 28,
   "id": "1dea12ca-f1ff-47ac-83c2-ad555ddc3d4b",
   "metadata": {},
   "outputs": [
    {
     "name": "stdout",
     "output_type": "stream",
     "text": [
      "Original List: [1, 2, 3, '3a', 'b', 5.5, 6, 1, 2, 3]\n",
      "After remove operation: [1, 3, '3a', 'b', 5.5, 6, 1, 2, 3]\n",
      "After pop operation: [1, 3, '3a', 'b', 5.5, 6, 1, 2]\n",
      "After pop the 3rd position: [1, 3, '3a', 5.5, 6, 1, 2]\n",
      "After del of 0th position ele: [3, '3a', 5.5, 6, 1, 2]\n",
      "After del using slicing: [3, '3a', 1, 2]\n",
      "After clear operation: []\n"
     ]
    }
   ],
   "source": [
    "# remove(), pop(), clear(), del()\n",
    "l = [1,2,3, '3a','b',5.5, 6,1,2,3]\n",
    "print(\"Original List:\",l)\n",
    "l.remove(2)\n",
    "print(\"After remove operation:\",l)\n",
    "l.pop()\n",
    "print(\"After pop operation:\", l)\n",
    "l.pop(3)\n",
    "print(\"After pop the 3rd position:\",l)\n",
    "del l[0]\n",
    "print(\"After del of 0th position ele:\", l)\n",
    "del l[2:4]\n",
    "print(\"After del using slicing:\", l)\n",
    "l.clear()\n",
    "print(\"After clear operation:\",l)"
   ]
  },
  {
   "cell_type": "code",
   "execution_count": null,
   "id": "b9e85913-c03d-4531-82f1-ef48ad040870",
   "metadata": {},
   "outputs": [],
   "source": []
  },
  {
   "cell_type": "code",
   "execution_count": 29,
   "id": "b24c3711-c57b-4887-ae14-db60725dbee1",
   "metadata": {},
   "outputs": [
    {
     "name": "stdout",
     "output_type": "stream",
     "text": [
      "1\n",
      "34\n",
      "2\n",
      "72\n"
     ]
    }
   ],
   "source": [
    "## min(), max(), len(), count(), sum(), sort(), reverse()\n",
    "l = [1,2,5,10,11,34,2,3,4]\n",
    "min_val = min(l)\n",
    "max_val = max(l)\n",
    "count_2 = l.count(2)\n",
    "sum_list = sum(l)\n",
    "print(min_val)\n",
    "print(max_val)\n",
    "print(count_2)\n",
    "print(sum_list)"
   ]
  },
  {
   "cell_type": "code",
   "execution_count": 30,
   "id": "6eb34a4f-0e8f-494f-8506-b5cb12abb2f3",
   "metadata": {},
   "outputs": [
    {
     "name": "stdout",
     "output_type": "stream",
     "text": [
      "[1, 2, 2, 3, 4, 5, 10, 11, 34]\n"
     ]
    }
   ],
   "source": [
    "# sort()\n",
    "l = [1,2,5,10,11,34,2,3,4]\n",
    "l.sort()\n",
    "print(l)"
   ]
  },
  {
   "cell_type": "code",
   "execution_count": 31,
   "id": "0b3684c5-609d-40da-843d-3e23e7b7b88c",
   "metadata": {},
   "outputs": [
    {
     "name": "stdout",
     "output_type": "stream",
     "text": [
      "[34, 11, 10, 5, 4, 3, 2, 2, 1]\n"
     ]
    }
   ],
   "source": [
    "# sort()\n",
    "l = [1,2,5,10,11,34,2,3,4]\n",
    "l.sort(reverse = True)\n",
    "print(l)"
   ]
  },
  {
   "cell_type": "code",
   "execution_count": 33,
   "id": "5afb7944-bdd2-48c6-b958-fb9be735b460",
   "metadata": {},
   "outputs": [
    {
     "name": "stdout",
     "output_type": "stream",
     "text": [
      "[4, 3, 2, 34, 11, 10, 5, 2, 1]\n"
     ]
    }
   ],
   "source": [
    "# revesre()\n",
    "l = [1,2,5,10,11,34,2,3,4]\n",
    "l.reverse()\n",
    "print(l)"
   ]
  },
  {
   "cell_type": "code",
   "execution_count": 1,
   "id": "d8e129bf-1975-440d-9c4f-6e688efcd5f3",
   "metadata": {},
   "outputs": [],
   "source": [
    "# Nested list\n",
    "l = [1,2,3, [4,5,6],[7,[8,9],10]]"
   ]
  },
  {
   "cell_type": "code",
   "execution_count": 7,
   "id": "39721f24-cadd-4251-ac34-398c8bbd5ac2",
   "metadata": {},
   "outputs": [
    {
     "data": {
      "text/plain": [
       "10"
      ]
     },
     "execution_count": 7,
     "metadata": {},
     "output_type": "execute_result"
    }
   ],
   "source": [
    "l[4][2]"
   ]
  },
  {
   "cell_type": "code",
   "execution_count": null,
   "id": "7464ccb2-a62a-462e-ba62-a5c1e053d2f1",
   "metadata": {},
   "outputs": [],
   "source": []
  }
 ],
 "metadata": {
  "kernelspec": {
   "display_name": "Python 3 (ipykernel)",
   "language": "python",
   "name": "python3"
  },
  "language_info": {
   "codemirror_mode": {
    "name": "ipython",
    "version": 3
   },
   "file_extension": ".py",
   "mimetype": "text/x-python",
   "name": "python",
   "nbconvert_exporter": "python",
   "pygments_lexer": "ipython3",
   "version": "3.10.11"
  }
 },
 "nbformat": 4,
 "nbformat_minor": 5
}
