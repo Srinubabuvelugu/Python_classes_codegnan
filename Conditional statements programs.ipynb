{
 "cells": [
  {
   "attachments": {},
   "cell_type": "markdown",
   "id": "295cfa1b-fa20-4368-8f87-0297bad780c4",
   "metadata": {},
   "source": [
    "1. Write a program to check whether a number is positive or negative.\n",
    "2. Check whether a number is even or odd.\n",
    "3. Find the greater of two numbers.\n",
    "4. Find the largest among three numbers.\n",
    "5. Check if a number is divisible by 5 and 11.\n",
    "6. Check if a year is a leap year.\n",
    "7. Check whether a character is a vowel or a consonant.\n",
    "8. Check whether a number is a multiple of 3 or 7.\n",
    "9. Check whether a character is uppercase, lowercase, digit, or special symbol"
   ]
  },
  {
   "cell_type": "code",
   "execution_count": 3,
   "id": "8b90f2ab-e72f-405d-8911-7200287fdfcf",
   "metadata": {},
   "outputs": [
    {
     "name": "stdin",
     "output_type": "stream",
     "text": [
      " -10\n"
     ]
    },
    {
     "name": "stdout",
     "output_type": "stream",
     "text": [
      "-10 is Negitive\n"
     ]
    }
   ],
   "source": [
    "# Write a program to check whether a number is positive or negative.\n",
    "num = int(input())\n",
    "if num >= 0:\n",
    "    print(f'{num} is positive')\n",
    "else:\n",
    "    print(f'{num} is Negitive')"
   ]
  },
  {
   "cell_type": "code",
   "execution_count": 5,
   "id": "7a528820-c306-4d5b-a01f-ae169bad8676",
   "metadata": {},
   "outputs": [
    {
     "name": "stdin",
     "output_type": "stream",
     "text": [
      " 10\n"
     ]
    },
    {
     "name": "stdout",
     "output_type": "stream",
     "text": [
      "10 is even\n"
     ]
    }
   ],
   "source": [
    "# Check whether a number is even or odd.\n",
    "num = int(input())\n",
    "if num%2 == 0:\n",
    "    print(f'{num} is even')\n",
    "else:\n",
    "    print(f'{num} is odd')"
   ]
  },
  {
   "cell_type": "code",
   "execution_count": 7,
   "id": "5cdfd83e-26fd-4a7f-a5f3-715558179cc9",
   "metadata": {},
   "outputs": [
    {
     "name": "stdin",
     "output_type": "stream",
     "text": [
      " -5 5\n"
     ]
    },
    {
     "name": "stdout",
     "output_type": "stream",
     "text": [
      "5 is big\n"
     ]
    }
   ],
   "source": [
    "#Find the greater of two numbers.\n",
    "n1, n2 = map(int, input().split())\n",
    "if n1 > n2:\n",
    "    print(f\"{n1} is big\")\n",
    "else:\n",
    "    print(f\"{n2} is big\")"
   ]
  },
  {
   "cell_type": "code",
   "execution_count": 9,
   "id": "d7884e16-097e-45ab-9d47-e4ea141daddd",
   "metadata": {},
   "outputs": [
    {
     "name": "stdin",
     "output_type": "stream",
     "text": [
      " -10 -20 -30\n"
     ]
    },
    {
     "name": "stdout",
     "output_type": "stream",
     "text": [
      "-10 is big\n"
     ]
    }
   ],
   "source": [
    "# Find the largest among three numbers\n",
    "a,b,c = map(int,input().split())\n",
    "if a>b and a > c:\n",
    "    print(f\"{a} is big\")\n",
    "elif b > a and b > c:\n",
    "    print(f\"{b} is big\")\n",
    "else:\n",
    "    print(f\"{c} is big\")"
   ]
  },
  {
   "cell_type": "code",
   "execution_count": 11,
   "id": "df78544a-474e-42e7-994b-a88738dc2e4e",
   "metadata": {},
   "outputs": [
    {
     "name": "stdin",
     "output_type": "stream",
     "text": [
      " 55\n"
     ]
    },
    {
     "name": "stdout",
     "output_type": "stream",
     "text": [
      "55 is divisiable by 5 and 11\n"
     ]
    }
   ],
   "source": [
    "# Check if a number is divisible by 5 and 11.\n",
    "num = int(input())\n",
    "if num % 5==0 and num % 11 ==0:\n",
    "    print(f'{num} is divisiable by 5 and 11')\n",
    "else:\n",
    "    print(f'{num} is not divisiable by 5 and 11')"
   ]
  },
  {
   "cell_type": "code",
   "execution_count": 15,
   "id": "a820e524-b81b-449b-a610-4f50816f977c",
   "metadata": {},
   "outputs": [
    {
     "name": "stdin",
     "output_type": "stream",
     "text": [
      " 2400\n"
     ]
    },
    {
     "name": "stdout",
     "output_type": "stream",
     "text": [
      "2400 is leap year\n"
     ]
    }
   ],
   "source": [
    "# Check if a year is a leap year.\n",
    "year = int(input())\n",
    "if (year % 4 ==0 and year % 100 !=0) or year % 400 == 0:\n",
    "    print(f'{year} is leap year')\n",
    "else:\n",
    "    print(f'{year} is not leap year')"
   ]
  },
  {
   "cell_type": "code",
   "execution_count": 4,
   "id": "3b3a3f14-83cc-4599-8e09-6e5b3f603e3f",
   "metadata": {},
   "outputs": [
    {
     "name": "stdin",
     "output_type": "stream",
     "text": [
      " a\n"
     ]
    },
    {
     "name": "stdout",
     "output_type": "stream",
     "text": [
      "a is Vowel\n"
     ]
    }
   ],
   "source": [
    "# Check whether a character is a vowel or a consonant.\n",
    "v = {'a','e','i','o','u','A','E','I','O','U'}\n",
    "char = input()\n",
    "if char in v:\n",
    "    print(f\"{char} is Vowel\")\n",
    "else:\n",
    "    print(f\"{char} is consonat\")"
   ]
  },
  {
   "cell_type": "code",
   "execution_count": 19,
   "id": "a310b2bc-6bf6-4506-8afd-5c609d4aa1be",
   "metadata": {},
   "outputs": [
    {
     "name": "stdin",
     "output_type": "stream",
     "text": [
      " 10\n"
     ]
    },
    {
     "name": "stdout",
     "output_type": "stream",
     "text": [
      "10 is a not multiple of 3 or 7\n"
     ]
    }
   ],
   "source": [
    "# Check whether a number is a multiple of 3 or 7.\n",
    "num = int(input())\n",
    "if num % 3 == 0 or num % 7 ==0:\n",
    "    print(f'{num} is a multiple of 3 or 7')\n",
    "else:\n",
    "    print(f'{num} is a not multiple of 3 or 7')"
   ]
  },
  {
   "cell_type": "code",
   "execution_count": 23,
   "id": "aeb7baf1-3dbb-49ca-8418-13570be1db1a",
   "metadata": {},
   "outputs": [
    {
     "name": "stdin",
     "output_type": "stream",
     "text": [
      " @\n"
     ]
    },
    {
     "name": "stdout",
     "output_type": "stream",
     "text": [
      "@ is special symbol\n"
     ]
    }
   ],
   "source": [
    "# Check whether a character is uppercase, lowercase, digit, or special symbol\n",
    "char = input()\n",
    "if char.islower():\n",
    "    print(f'{char} is lower')\n",
    "elif char.isupper():\n",
    "    print(f'{char} is upper')\n",
    "elif char.isdigit():\n",
    "    print(f'{char} is digit')\n",
    "else:\n",
    "    print(f'{char} is special symbol')\n"
   ]
  },
  {
   "cell_type": "markdown",
   "id": "b6b14614-67a2-448d-acd0-204e67cd6578",
   "metadata": {},
   "source": [
    "1. Check whether a number is positive, negative, or zero and even/odd.\n",
    "2. \n",
    "3. \n",
    "4. Assign grades based on marks (90+: A+, 80-89: A, etc.).\n",
    "5. Create a simple calculator using +, -, *, / operators.\n",
    "6. \n",
    "7. Check whether a triangle is valid based on the sum of its angles.\n",
    "8. Check if a number is divisible by 3 and 5.\n",
    "9. Determine if a number is a three-digit number.\n",
    "10. .\n",
    "11. Check if a number is even and multiple of 7.\n",
    "12. Determine the type of triangle (Equilateral, Isosceles, Scalene) using sides.\n",
    "13. Calculate electricity bill based on slab-wise rates.\n",
    "14. Check if a number is within a range (e.g., 50–100).\n",
    "15. Check whether a given year is a century year.\n",
    "16. Compare two numbers and display the greater and the difference.\n",
    "17. Check if a day number (1–7) corresponds to weekday or weekend.\n",
    "18. Check if three sides can form a right-angled triangle.\n",
    "19. Find the roots of a quadratic equation and display their nature."
   ]
  },
  {
   "cell_type": "code",
   "execution_count": null,
   "id": "777768b0-08bf-416e-ac9a-c8a3bb387184",
   "metadata": {},
   "outputs": [],
   "source": []
  }
 ],
 "metadata": {
  "kernelspec": {
   "display_name": "Python 3 (ipykernel)",
   "language": "python",
   "name": "python3"
  },
  "language_info": {
   "codemirror_mode": {
    "name": "ipython",
    "version": 3
   },
   "file_extension": ".py",
   "mimetype": "text/x-python",
   "name": "python",
   "nbconvert_exporter": "python",
   "pygments_lexer": "ipython3",
   "version": "3.10.11"
  }
 },
 "nbformat": 4,
 "nbformat_minor": 5
}
