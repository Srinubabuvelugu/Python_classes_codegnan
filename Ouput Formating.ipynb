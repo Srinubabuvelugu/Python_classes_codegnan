{
 "cells": [
  {
   "cell_type": "markdown",
   "id": "dd0ba26b-2a53-4c32-aa99-08c7f0a47222",
   "metadata": {},
   "source": [
    "## Types of Output Formatting\n",
    "- Using Old Style Formatting [ using Commas ]\n",
    "- Using Modulo Operator\n",
    "- Using F - Format Method\n",
    "- Using Dot Format Method."
   ]
  },
  {
   "cell_type": "code",
   "execution_count": 2,
   "id": "2a14bc8e-da7c-4a39-a85e-2f17a5b3497d",
   "metadata": {},
   "outputs": [
    {
     "name": "stdout",
     "output_type": "stream",
     "text": [
      "Name: srinu age: 25 email: srinubabu@gmail.com\n"
     ]
    }
   ],
   "source": [
    "# Using Old Style Formatting [ using Commas ]\n",
    "name = \"srinu\"\n",
    "age = 25\n",
    "email = 'srinubabu@gmail.com'\n",
    "print('Name:',name, 'age:', age, 'email:', email)\n",
    "# Name: srinu age: 25 email:srinubabu@gmail"
   ]
  },
  {
   "cell_type": "code",
   "execution_count": 4,
   "id": "3945eebc-aa98-4432-8cac-370be4df887d",
   "metadata": {},
   "outputs": [
    {
     "name": "stdout",
     "output_type": "stream",
     "text": [
      "abc 23\n"
     ]
    }
   ],
   "source": [
    "print(\"abc\" ,23)"
   ]
  },
  {
   "cell_type": "code",
   "execution_count": 6,
   "id": "9ef1c80b-0946-4ae0-977d-91ef68e8eed4",
   "metadata": {},
   "outputs": [
    {
     "name": "stdout",
     "output_type": "stream",
     "text": [
      "20\n"
     ]
    }
   ],
   "source": [
    "n = 10 \n",
    "val = n * 2\n",
    "print(val)"
   ]
  },
  {
   "cell_type": "markdown",
   "id": "699e0497-6172-4313-b97c-f6acc552c8fb",
   "metadata": {},
   "source": [
    "#### Using Modulo Operator\n",
    "##### Format Specifiers\n",
    "- %d - intergers\n",
    "- %f - Float values\n",
    "- %s - Strings\n",
    "\n"
   ]
  },
  {
   "cell_type": "code",
   "execution_count": 7,
   "id": "b62a7644-b830-45fa-8712-fb1c4489710b",
   "metadata": {},
   "outputs": [
    {
     "name": "stdout",
     "output_type": "stream",
     "text": [
      "Name is: srinu , age is: 25 and email is: srinubabu@gmail.com\n"
     ]
    }
   ],
   "source": [
    "name = \"srinu\"\n",
    "age = 25\n",
    "email = 'srinubabu@gmail.com'\n",
    "print('Name is: %s , age is: %d and email is: %s'%(name, age, email))"
   ]
  },
  {
   "cell_type": "code",
   "execution_count": 9,
   "id": "3e8df6a0-1bd9-4b9b-9efb-6ba75072e4b0",
   "metadata": {},
   "outputs": [
    {
     "name": "stdout",
     "output_type": "stream",
     "text": [
      "Name is: 25 , age is: 25 and email is: srinubabu@gmail.com\n"
     ]
    }
   ],
   "source": [
    "name = \"srinu\"\n",
    "age = 25\n",
    "email = 'srinubabu@gmail.com'\n",
    "print('Name is: %s , age is: %d and email is: %s'%(age, age, email))"
   ]
  },
  {
   "cell_type": "code",
   "execution_count": 10,
   "id": "659ae262-7865-4e4a-b087-51a060573a6d",
   "metadata": {},
   "outputs": [
    {
     "name": "stdout",
     "output_type": "stream",
     "text": [
      "Name is srinu, age is 25 and email srinubabu@gmail.com\n"
     ]
    }
   ],
   "source": [
    "# Using F - Format Method\n",
    "name = \"srinu\"\n",
    "age = 25\n",
    "email = 'srinubabu@gmail.com'\n",
    "print(f'Name is {name}, age is {age} and email {email}')"
   ]
  },
  {
   "cell_type": "code",
   "execution_count": 11,
   "id": "9a1b4488-232c-425b-8075-548db7b6a7e5",
   "metadata": {},
   "outputs": [
    {
     "name": "stdout",
     "output_type": "stream",
     "text": [
      "Name is srinu, age is 25 and email srinubabu@gmail.com\n"
     ]
    }
   ],
   "source": [
    "# Using Dot Format Method.\n",
    "name = \"srinu\"\n",
    "age = 25\n",
    "email = 'srinubabu@gmail.com'\n",
    "print('Name is {}, age is {} and email {}'.format(name, age, email))"
   ]
  },
  {
   "cell_type": "code",
   "execution_count": 12,
   "id": "3baa2a6f-9b04-4597-ad15-5079c642fe81",
   "metadata": {},
   "outputs": [
    {
     "name": "stdout",
     "output_type": "stream",
     "text": [
      "Name is 25, age is srinubabu@gmail.com and email srinu\n"
     ]
    }
   ],
   "source": [
    "# Using Dot Format Method.\n",
    "name = \"srinu\"\n",
    "age = 25\n",
    "email = 'srinubabu@gmail.com'\n",
    "print('Name is {}, age is {} and email {}'.format(age, email, name))"
   ]
  },
  {
   "cell_type": "code",
   "execution_count": null,
   "id": "eabf09f5-8d01-4543-8d48-0da39076a811",
   "metadata": {},
   "outputs": [],
   "source": []
  }
 ],
 "metadata": {
  "kernelspec": {
   "display_name": "Python 3 (ipykernel)",
   "language": "python",
   "name": "python3"
  },
  "language_info": {
   "codemirror_mode": {
    "name": "ipython",
    "version": 3
   },
   "file_extension": ".py",
   "mimetype": "text/x-python",
   "name": "python",
   "nbconvert_exporter": "python",
   "pygments_lexer": "ipython3",
   "version": "3.10.11"
  }
 },
 "nbformat": 4,
 "nbformat_minor": 5
}
