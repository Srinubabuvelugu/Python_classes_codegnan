{
 "cells": [
  {
   "cell_type": "markdown",
   "id": "a3e357bf-d68a-46b9-9af1-62907cb81d68",
   "metadata": {},
   "source": [
    "## Sets\n",
    "- Set is unordered Collection of diffetent data type elements\n",
    "- It define with `{}`\n",
    "- Set is Mutable\n",
    "- Set not allows the duplicate values\n",
    "- Set is Hetrogeneuous data type\n",
    "- Set hashable data type"
   ]
  },
  {
   "cell_type": "code",
   "execution_count": 8,
   "id": "be4a2d85-c0f6-426d-88a0-283e1b55efcb",
   "metadata": {},
   "outputs": [
    {
     "name": "stdout",
     "output_type": "stream",
     "text": [
      "{1, 2, 'a', 'z', 'Codegnan'}\n"
     ]
    }
   ],
   "source": [
    "s = {1,2, 'a', 'Codegnan','z'}\n",
    "print(s)"
   ]
  },
  {
   "cell_type": "code",
   "execution_count": 7,
   "id": "b9b91c09-6e6e-481a-a0ce-a0eced9012a0",
   "metadata": {},
   "outputs": [
    {
     "name": "stdout",
     "output_type": "stream",
     "text": [
      "<class 'dict'> <class 'set'>\n"
     ]
    }
   ],
   "source": [
    "# empty set\n",
    "s1 = {}\n",
    "s2 = set()\n",
    "print(type(s1), type(s2))"
   ]
  },
  {
   "cell_type": "markdown",
   "id": "c46383b2-4b6d-480a-97f6-2398811cbd8d",
   "metadata": {},
   "source": [
    "## Set Methods"
   ]
  },
  {
   "cell_type": "markdown",
   "id": "c754998b-eab5-40d0-b0a4-f443b765437e",
   "metadata": {},
   "source": [
    "- add(ele) - Addss element to set\n",
    "- update(iterable) - Update the current set with new iterable elements\n",
    "- remove(ele) - removes the ele from set, otherwise `KeyError`\n",
    "- discard(ele) - removes ele from set, otherwise does nothing\n",
    "- pop() - Removes the random ele from set\n",
    "- clear() - removes all elements from set"
   ]
  },
  {
   "cell_type": "code",
   "execution_count": 2,
   "id": "e8a9ebea-e9c4-4fad-ad86-f76bf77c5d50",
   "metadata": {},
   "outputs": [
    {
     "name": "stdout",
     "output_type": "stream",
     "text": [
      "Original set: {1, 2, 3, 4}\n",
      "After add Operation: {1, 2, 3, 100, 4}\n",
      "After Update operation: {1, 2, 3, 100, 4, 10, 20}\n",
      "After Remove 2 ele: {1, 3, 100, 4, 10, 20}\n",
      "After discard 100 ele: {1, 3, 4, 10, 20}\n",
      "After pop operation: 1 {3, 4, 10, 20}\n",
      "After clear operation: set()\n"
     ]
    }
   ],
   "source": [
    "\n",
    "s = {1,2,3,4}\n",
    "print(\"Original set:\",s)\n",
    "s.add(100)\n",
    "print(\"After add Operation:\",s)\n",
    "s.update([10,20])\n",
    "print(\"After Update operation:\", s)\n",
    "s.remove(2)\n",
    "print(\"After Remove 2 ele:\",s)\n",
    "s.discard(100)\n",
    "print(\"After discard 100 ele:\",s)\n",
    "val = s.pop()\n",
    "print(\"After pop operation:\", val, s)\n",
    "s.clear()\n",
    "print(\"After clear operation:\",s)"
   ]
  },
  {
   "cell_type": "code",
   "execution_count": 3,
   "id": "b25fa6af-eded-46b7-bf7a-b7fbca022821",
   "metadata": {},
   "outputs": [
    {
     "name": "stdout",
     "output_type": "stream",
     "text": [
      "Original set: {1, 2, 3, 100, 4}\n",
      "{1, 2, 3, 100, 4}\n"
     ]
    }
   ],
   "source": [
    "\n",
    "s = {1,2,3,4,100}\n",
    "print(\"Original set:\",s)\n",
    "s.add(100)\n",
    "print(s)"
   ]
  },
  {
   "cell_type": "code",
   "execution_count": 6,
   "id": "45dc12fc-1f75-42ac-a1fc-842e3774da1c",
   "metadata": {},
   "outputs": [
    {
     "name": "stdout",
     "output_type": "stream",
     "text": [
      "Original set: {1, 2, 3, 100, 4}\n"
     ]
    },
    {
     "ename": "KeyError",
     "evalue": "10",
     "output_type": "error",
     "traceback": [
      "\u001b[1;31m---------------------------------------------------------------------------\u001b[0m",
      "\u001b[1;31mKeyError\u001b[0m                                  Traceback (most recent call last)",
      "Cell \u001b[1;32mIn[6], line 3\u001b[0m\n\u001b[0;32m      1\u001b[0m s \u001b[38;5;241m=\u001b[39m {\u001b[38;5;241m1\u001b[39m,\u001b[38;5;241m2\u001b[39m,\u001b[38;5;241m3\u001b[39m,\u001b[38;5;241m4\u001b[39m,\u001b[38;5;241m100\u001b[39m}\n\u001b[0;32m      2\u001b[0m \u001b[38;5;28mprint\u001b[39m(\u001b[38;5;124m\"\u001b[39m\u001b[38;5;124mOriginal set:\u001b[39m\u001b[38;5;124m\"\u001b[39m,s)\n\u001b[1;32m----> 3\u001b[0m \u001b[43ms\u001b[49m\u001b[38;5;241;43m.\u001b[39;49m\u001b[43mremove\u001b[49m\u001b[43m(\u001b[49m\u001b[38;5;241;43m10\u001b[39;49m\u001b[43m)\u001b[49m\n\u001b[0;32m      4\u001b[0m \u001b[38;5;28mprint\u001b[39m(s)\n",
      "\u001b[1;31mKeyError\u001b[0m: 10"
     ]
    }
   ],
   "source": [
    "\n",
    "s = {1,2,3,4,100}\n",
    "print(\"Original set:\",s)\n",
    "s.remove(10)\n",
    "print(s)"
   ]
  },
  {
   "cell_type": "code",
   "execution_count": 8,
   "id": "1853c0af-590c-418b-8988-519f1d54a7e9",
   "metadata": {},
   "outputs": [
    {
     "name": "stdout",
     "output_type": "stream",
     "text": [
      "Original set: {1, 2, 3, 100, 4}\n",
      "{1, 2, 3, 100, 4}\n"
     ]
    }
   ],
   "source": [
    "\n",
    "s = {1,2,3,4,100}\n",
    "print(\"Original set:\",s)\n",
    "s.discard(10)\n",
    "print(s)"
   ]
  },
  {
   "cell_type": "code",
   "execution_count": 7,
   "id": "8b43731f-52a2-46c9-8582-1cce68f7336b",
   "metadata": {},
   "outputs": [
    {
     "name": "stdout",
     "output_type": "stream",
     "text": [
      "Original set: set()\n"
     ]
    },
    {
     "ename": "TypeError",
     "evalue": "set.pop() takes no arguments (1 given)",
     "output_type": "error",
     "traceback": [
      "\u001b[1;31m---------------------------------------------------------------------------\u001b[0m",
      "\u001b[1;31mTypeError\u001b[0m                                 Traceback (most recent call last)",
      "Cell \u001b[1;32mIn[7], line 3\u001b[0m\n\u001b[0;32m      1\u001b[0m s \u001b[38;5;241m=\u001b[39m \u001b[38;5;28mset\u001b[39m()\n\u001b[0;32m      2\u001b[0m \u001b[38;5;28mprint\u001b[39m(\u001b[38;5;124m\"\u001b[39m\u001b[38;5;124mOriginal set:\u001b[39m\u001b[38;5;124m\"\u001b[39m,s)\n\u001b[1;32m----> 3\u001b[0m \u001b[43ms\u001b[49m\u001b[38;5;241;43m.\u001b[39;49m\u001b[43mpop\u001b[49m\u001b[43m(\u001b[49m\u001b[38;5;241;43m10\u001b[39;49m\u001b[43m)\u001b[49m\n\u001b[0;32m      4\u001b[0m \u001b[38;5;28mprint\u001b[39m(s)\n",
      "\u001b[1;31mTypeError\u001b[0m: set.pop() takes no arguments (1 given)"
     ]
    }
   ],
   "source": [
    "\n",
    "s = set()\n",
    "print(\"Original set:\",s)\n",
    "s.pop(10)\n",
    "print(s)"
   ]
  },
  {
   "cell_type": "code",
   "execution_count": 16,
   "id": "a5ac501d-19df-4e8f-a542-a4e7fd5b8a4a",
   "metadata": {},
   "outputs": [
    {
     "name": "stdout",
     "output_type": "stream",
     "text": [
      "{1, 2, 3, 4, 5, 6} {3, 4} {1, 2} {1, 2, 5, 6}\n"
     ]
    }
   ],
   "source": [
    "# union(), instersection, difference(), symmetric_difference()\n",
    "s1 = {1,2,3,4}\n",
    "s2 = {3,4,5,6}\n",
    "union = s1.union(s2)\n",
    "intersection = s1.intersection(s2)\n",
    "difference = s1.difference(s2)\n",
    "symmetric_difference = s1.symmetric_difference(s2)\n",
    "print(union, intersection, difference, symmetric_difference)"
   ]
  },
  {
   "cell_type": "code",
   "execution_count": 17,
   "id": "7bcbd3d1-155c-4107-8544-7bedcc077390",
   "metadata": {},
   "outputs": [
    {
     "name": "stdout",
     "output_type": "stream",
     "text": [
      "False\n",
      "True\n",
      "True\n",
      "False\n"
     ]
    }
   ],
   "source": [
    "#issubset(), issuperset(), isdisjoint()\n",
    "s1 = {1,2,3,4,5,6}\n",
    "s2 = {3,4,5,6}\n",
    "print(s1.issubset(s2))\n",
    "print(s2.issubset(s1))\n",
    "print(s1.issuperset(s2))\n",
    "print(s1.isdisjoint(s2))"
   ]
  },
  {
   "cell_type": "markdown",
   "id": "7102da50-f772-4f60-91b9-2a6b212d1fc2",
   "metadata": {},
   "source": [
    "## sample programs\n",
    "1. Write a Python program to print \"Hello Python\"?\n",
    "2. Write a Python program to do arithmetical operations addition and division.?\n",
    "3. Write a Python program to find the area of a triangle?\n",
    "4. Write a Python program to swap two variables?"
   ]
  },
  {
   "cell_type": "code",
   "execution_count": 20,
   "id": "3b0b8082-03c1-491d-b608-4411856f56d3",
   "metadata": {},
   "outputs": [
    {
     "name": "stdout",
     "output_type": "stream",
     "text": [
      "False\n"
     ]
    }
   ],
   "source": [
    "# check if number is present in list return True else false\n",
    "l = [1,2,3,4]\n",
    "n = 30\n",
    "# membership operator\n",
    "print(n in l)"
   ]
  },
  {
   "cell_type": "code",
   "execution_count": 21,
   "id": "bf7c2794-5e76-4b26-898a-36f3e082ff7e",
   "metadata": {},
   "outputs": [
    {
     "name": "stdout",
     "output_type": "stream",
     "text": [
      "[1, 2, 3, 4, 30]\n"
     ]
    }
   ],
   "source": [
    "# check if number is present in list return True else add element \n",
    "# to list and return list\n",
    "l = [1,2,3,4]\n",
    "n = 30\n",
    "# membership operator\n",
    "val = n in l\n",
    "if val:\n",
    "    print(\"TRUE\")\n",
    "else:\n",
    "    l.append(n)\n",
    "    print(l)"
   ]
  },
  {
   "cell_type": "code",
   "execution_count": null,
   "id": "0673e29f-8978-4d2c-8a9f-8defd540fe6a",
   "metadata": {},
   "outputs": [],
   "source": [
    "# check if number is present in list return True else add element at \n",
    "#1st position to list and return list"
   ]
  }
 ],
 "metadata": {
  "kernelspec": {
   "display_name": "Python 3 (ipykernel)",
   "language": "python",
   "name": "python3"
  },
  "language_info": {
   "codemirror_mode": {
    "name": "ipython",
    "version": 3
   },
   "file_extension": ".py",
   "mimetype": "text/x-python",
   "name": "python",
   "nbconvert_exporter": "python",
   "pygments_lexer": "ipython3",
   "version": "3.10.11"
  }
 },
 "nbformat": 4,
 "nbformat_minor": 5
}
