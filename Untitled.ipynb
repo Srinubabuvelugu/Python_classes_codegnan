{
 "cells": [
  {
   "cell_type": "markdown",
   "id": "aa32f632-5f23-436f-8275-fb092835c63c",
   "metadata": {},
   "source": [
    "## Strings"
   ]
  },
  {
   "cell_type": "markdown",
   "id": "4e6ab09a-aa18-4cea-bff0-9ca0fe4af217",
   "metadata": {},
   "source": [
    "- It is Sequence of Characters\n",
    "- it is denoted with `''` or `\"\"`\n",
    "- Strings are index based and sliceable\n",
    "- Strings are immutable"
   ]
  },
  {
   "cell_type": "code",
   "execution_count": null,
   "id": "580c71bd-210f-4f35-8d66-582da9545f6c",
   "metadata": {},
   "outputs": [],
   "source": []
  }
 ],
 "metadata": {
  "kernelspec": {
   "display_name": "Python 3 (ipykernel)",
   "language": "python",
   "name": "python3"
  },
  "language_info": {
   "codemirror_mode": {
    "name": "ipython",
    "version": 3
   },
   "file_extension": ".py",
   "mimetype": "text/x-python",
   "name": "python",
   "nbconvert_exporter": "python",
   "pygments_lexer": "ipython3",
   "version": "3.10.11"
  }
 },
 "nbformat": 4,
 "nbformat_minor": 5
}
