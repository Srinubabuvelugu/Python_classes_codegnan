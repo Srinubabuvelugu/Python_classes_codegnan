{
 "cells": [
  {
   "cell_type": "code",
   "execution_count": 1,
   "id": "c343eb25-cbec-4eff-be94-43ce7e9ead37",
   "metadata": {},
   "outputs": [
    {
     "name": "stdout",
     "output_type": "stream",
     "text": [
      "srinubabu\n"
     ]
    }
   ],
   "source": [
    "## string concatiantion iusing '+'\n",
    "s1 = 'srinu'\n",
    "s2 = 'babu'\n",
    "print(s1 + s2)"
   ]
  },
  {
   "cell_type": "code",
   "execution_count": 2,
   "id": "bed4a8c8-7bca-4f7b-a352-4333bc29d0de",
   "metadata": {},
   "outputs": [
    {
     "name": "stdout",
     "output_type": "stream",
     "text": [
      "srinu babu\n"
     ]
    }
   ],
   "source": [
    "## string concatiantion iusing '+'\n",
    "s1 = 'srinu'\n",
    "s2 = 'babu'\n",
    "print(s1 + \" \" + s2)"
   ]
  },
  {
   "cell_type": "code",
   "execution_count": null,
   "id": "386305ad-fee3-4813-8c95-ee5e5b3c41c7",
   "metadata": {},
   "outputs": [],
   "source": [
    "# multiple strings concatination with space\n",
    "s1 + \" \" + s2 + \" \" + s3"
   ]
  },
  {
   "cell_type": "code",
   "execution_count": 3,
   "id": "abb2fb63-d628-4dce-9bf1-70812f53adca",
   "metadata": {},
   "outputs": [
    {
     "name": "stdout",
     "output_type": "stream",
     "text": [
      "       \n"
     ]
    }
   ],
   "source": [
    "s = '       '\n",
    "print(s)"
   ]
  },
  {
   "cell_type": "code",
   "execution_count": 5,
   "id": "b26b0d21-19c1-4fa0-a6d0-6865054deefb",
   "metadata": {},
   "outputs": [
    {
     "name": "stdout",
     "output_type": "stream",
     "text": [
      "Codegnan Codegnan Codegnan \n"
     ]
    }
   ],
   "source": [
    "# String repete using '*'\n",
    "s = 'Codegnan '\n",
    "print(s * 3)"
   ]
  },
  {
   "cell_type": "markdown",
   "id": "7ad410d7-a99f-48d7-9a50-914eb90dcce6",
   "metadata": {},
   "source": [
    "## case conversions\n",
    "- lower() - converts the string into lower case\n",
    "- upper() - converts the string into upper case\n",
    "- swapcase() - upper to lower and lower to upper \n",
    "- title() - converts the first letter of every word in the string into upper case\n",
    "- capitalize() - first character of every string into upper case"
   ]
  },
  {
   "cell_type": "code",
   "execution_count": 6,
   "id": "62e0e3db-b2d1-4695-b3f7-8762ab3fafa3",
   "metadata": {},
   "outputs": [
    {
     "name": "stdout",
     "output_type": "stream",
     "text": [
      "i am from india\n",
      "I AM FROM INDIA\n",
      "i AM FROM iNDIa\n",
      "I Am From India\n",
      "I am from india\n"
     ]
    }
   ],
   "source": [
    "string = \"I am from IndiA\"\n",
    "print(string.lower())\n",
    "print(string.upper())\n",
    "print(string.swapcase())\n",
    "print(string.title())\n",
    "print(string.capitalize())"
   ]
  },
  {
   "cell_type": "markdown",
   "id": "09ea24ff-595b-44e3-ba51-cfe81cdc95e7",
   "metadata": {},
   "source": [
    "## Remove White space\n",
    "- strip() -  it removers the leading and lagging white space\n",
    "- lstrip() - it removes the leading white space\n",
    "- rstrip() - it removest the lagging white space\n"
   ]
  },
  {
   "cell_type": "code",
   "execution_count": 7,
   "id": "35278f49-6e38-4e8f-8c75-cd508c4a5d23",
   "metadata": {},
   "outputs": [
    {
     "name": "stdout",
     "output_type": "stream",
     "text": [
      "     abc     \n",
      "abc\n",
      "abc     \n",
      "     abc\n"
     ]
    }
   ],
   "source": [
    "s = '     abc     '\n",
    "print(s)\n",
    "print(s.strip())\n",
    "print(s.lstrip())\n",
    "print(s.rstrip())"
   ]
  },
  {
   "cell_type": "code",
   "execution_count": 8,
   "id": "51f4d0c3-4fad-4f24-8f72-2961cab57a6b",
   "metadata": {},
   "outputs": [
    {
     "name": "stdout",
     "output_type": "stream",
     "text": [
      "ab@c\n"
     ]
    }
   ],
   "source": [
    "s = '@@@@ab@c@@@@'\n",
    "print(s.strip('@'))"
   ]
  },
  {
   "cell_type": "markdown",
   "id": "96103ffa-374a-4896-88bb-90251d0b5a6c",
   "metadata": {},
   "source": [
    "- find(sub_string) - it returns the first occurance position in the string otherwise -1\n",
    "- index(sub_string) - it returns the lower or first occurance position in the string otherwise riase `ValueError`\n",
    "- replace(old , new) - it replaces the all occurance of old_string with new_string"
   ]
  },
  {
   "cell_type": "code",
   "execution_count": 9,
   "id": "b7d47506-07e4-4f51-986b-571ab0376ffc",
   "metadata": {},
   "outputs": [
    {
     "name": "stdout",
     "output_type": "stream",
     "text": [
      "2\n",
      "-1\n",
      "2\n"
     ]
    },
    {
     "ename": "ValueError",
     "evalue": "substring not found",
     "output_type": "error",
     "traceback": [
      "\u001b[1;31m---------------------------------------------------------------------------\u001b[0m",
      "\u001b[1;31mValueError\u001b[0m                                Traceback (most recent call last)",
      "Cell \u001b[1;32mIn[9], line 5\u001b[0m\n\u001b[0;32m      3\u001b[0m \u001b[38;5;28mprint\u001b[39m(s\u001b[38;5;241m.\u001b[39mfind(\u001b[38;5;124m'\u001b[39m\u001b[38;5;124mK\u001b[39m\u001b[38;5;124m'\u001b[39m))\n\u001b[0;32m      4\u001b[0m \u001b[38;5;28mprint\u001b[39m(s\u001b[38;5;241m.\u001b[39mindex(\u001b[38;5;124m'\u001b[39m\u001b[38;5;124ma\u001b[39m\u001b[38;5;124m'\u001b[39m))\n\u001b[1;32m----> 5\u001b[0m \u001b[38;5;28mprint\u001b[39m(\u001b[43ms\u001b[49m\u001b[38;5;241;43m.\u001b[39;49m\u001b[43mindex\u001b[49m\u001b[43m(\u001b[49m\u001b[38;5;124;43m'\u001b[39;49m\u001b[38;5;124;43mK\u001b[39;49m\u001b[38;5;124;43m'\u001b[39;49m\u001b[43m)\u001b[49m)\n",
      "\u001b[1;31mValueError\u001b[0m: substring not found"
     ]
    }
   ],
   "source": [
    "s = 'I am a Python Programmer'\n",
    "print(s.find('a'))\n",
    "print(s.find('K'))\n",
    "print(s.index('a'))\n",
    "print(s.index('K'))"
   ]
  },
  {
   "cell_type": "code",
   "execution_count": 11,
   "id": "20f05b30-b991-4115-bc79-f5daac88dba8",
   "metadata": {},
   "outputs": [
    {
     "name": "stdout",
     "output_type": "stream",
     "text": [
      "7\n"
     ]
    }
   ],
   "source": [
    "s = 'I am a Python Programmer'\n",
    "print(s.find('Python'))"
   ]
  },
  {
   "cell_type": "code",
   "execution_count": 15,
   "id": "8bf16272-fdb8-4d39-bf85-d3c3251dd9d4",
   "metadata": {},
   "outputs": [
    {
     "name": "stdout",
     "output_type": "stream",
     "text": [
      "I Am A Python ProgrAmmer\n",
      "I @Am @A Python Progr@Ammer\n",
      "I am a Java Programmer\n"
     ]
    }
   ],
   "source": [
    "# replace(old, new)\n",
    "s = 'I am a Python Programmer'\n",
    "print(s.replace('a', 'A'))\n",
    "print(s.replace('a', '@A'))\n",
    "print(s.replace('Python', 'Java'))"
   ]
  },
  {
   "cell_type": "markdown",
   "id": "7af30446-f9ce-4050-8875-b28bb7f60cfc",
   "metadata": {},
   "source": [
    "## split()\n",
    "- Syntax- split(delimiter=optional) <br>\n",
    "- it divides the string into list of substrings as per the delimiter"
   ]
  },
  {
   "cell_type": "code",
   "execution_count": 16,
   "id": "7ee7226d-b7c4-45de-a793-16f74e9b6ea0",
   "metadata": {},
   "outputs": [
    {
     "name": "stdout",
     "output_type": "stream",
     "text": [
      "['I', 'am', 'a', 'Python', 'Programmer']\n"
     ]
    }
   ],
   "source": [
    "s = 'I am a Python Programmer'\n",
    "print(s.split())"
   ]
  },
  {
   "cell_type": "code",
   "execution_count": 17,
   "id": "d0df91aa-7225-4ba8-a374-f6c7d53da79d",
   "metadata": {},
   "outputs": [
    {
     "name": "stdout",
     "output_type": "stream",
     "text": [
      "['I ', 'm ', ' Python Progr', 'mmer']\n"
     ]
    }
   ],
   "source": [
    "s = 'I am a Python Programmer'\n",
    "print(s.split('a'))"
   ]
  },
  {
   "cell_type": "code",
   "execution_count": 18,
   "id": "8538c835-cf3c-42f0-8cff-419f89bca1fa",
   "metadata": {},
   "outputs": [
    {
     "name": "stdout",
     "output_type": "stream",
     "text": [
      "['I am a Python Programmer']\n"
     ]
    }
   ],
   "source": [
    "s = 'I am a Python Programmer'\n",
    "print(s.split('K'))"
   ]
  },
  {
   "cell_type": "markdown",
   "id": "7642c298-9cdc-44fc-b435-1941cf0e47ed",
   "metadata": {},
   "source": [
    "## join()\n",
    "- syntax - `'sep'.join(iterable)`\n",
    "- it joins the iterable values with swperator"
   ]
  },
  {
   "cell_type": "code",
   "execution_count": 20,
   "id": "6602465c-eeab-46de-89c1-b28899a213da",
   "metadata": {},
   "outputs": [
    {
     "name": "stdout",
     "output_type": "stream",
     "text": [
      "IamaPythonProgrammer\n",
      "I am a Python Programmer\n",
      "I_am_a_Python_Programmer\n"
     ]
    }
   ],
   "source": [
    "lst = ['I', 'am', 'a', 'Python', 'Programmer']\n",
    "print(\"\".join(lst))\n",
    "print(\" \".join(lst))\n",
    "print(\"_\".join(lst))"
   ]
  },
  {
   "cell_type": "markdown",
   "id": "24556f9c-3c2b-4595-b92f-6a90cd172a87",
   "metadata": {},
   "source": [
    "## checking\n",
    "- isalpha()- it checks the entire string contain alphabets or not\n",
    "- isalnum()- it checks the string contains only alphabets and numbers\n",
    "- isdigit()- it checks the entire string contain digits or not"
   ]
  },
  {
   "cell_type": "code",
   "execution_count": 28,
   "id": "f860c789-bdec-4454-ace5-44af4c4cac91",
   "metadata": {},
   "outputs": [
    {
     "name": "stdout",
     "output_type": "stream",
     "text": [
      "True True False\n",
      "False True False\n",
      "False True True\n",
      "False\n"
     ]
    }
   ],
   "source": [
    "s1 = 'abcd'\n",
    "s2 = 'abcd1234'\n",
    "s3 = '1234'\n",
    "s4 = 'abcd@'\n",
    "print(s1.isalpha(), s1.isalnum(),s1.isdigit())\n",
    "print(s2.isalpha(),s2.isalnum(), s2.isdigit())\n",
    "print(s3.isalpha(), s3.isalnum(), s3.isdigit())\n",
    "print(s4.isalnum())"
   ]
  },
  {
   "cell_type": "markdown",
   "id": "4f3a2eab-50e6-403f-9e9d-4ea74ca02c28",
   "metadata": {},
   "source": [
    "## String Comparision\n",
    "- string comparision in lexicographical"
   ]
  },
  {
   "cell_type": "code",
   "execution_count": 29,
   "id": "2cc89bfd-fb0e-4092-8687-9afc2e3c1c4e",
   "metadata": {},
   "outputs": [
    {
     "name": "stdout",
     "output_type": "stream",
     "text": [
      "False\n",
      "True\n"
     ]
    }
   ],
   "source": [
    "s1 = 'abcd'\n",
    "s2 = 'abde'\n",
    "print(s1 > s2)\n",
    "print(s1 < s2)"
   ]
  },
  {
   "cell_type": "code",
   "execution_count": null,
   "id": "99e247fc-bcee-48cb-8d3f-80e6bb5b5f38",
   "metadata": {},
   "outputs": [],
   "source": []
  }
 ],
 "metadata": {
  "kernelspec": {
   "display_name": "Python 3 (ipykernel)",
   "language": "python",
   "name": "python3"
  },
  "language_info": {
   "codemirror_mode": {
    "name": "ipython",
    "version": 3
   },
   "file_extension": ".py",
   "mimetype": "text/x-python",
   "name": "python",
   "nbconvert_exporter": "python",
   "pygments_lexer": "ipython3",
   "version": "3.10.11"
  }
 },
 "nbformat": 4,
 "nbformat_minor": 5
}
